{
 "cells": [
  {
   "cell_type": "markdown",
   "metadata": {},
   "source": [
    "Deep learning is the machine learning technique behind the most exciting capabilities in diverse areas like robotics, natural language processing, image recognition, and artificial intelligence, including the famous AlphaGo. Here I will use deep learning with Keras 2.0, the latest version of a cutting-edge library for deep learning in Python.\n"
   ]
  },
  {
   "cell_type": "code",
   "execution_count": 1,
   "metadata": {},
   "outputs": [],
   "source": [
    "import numpy as np "
   ]
  },
  {
   "cell_type": "code",
   "execution_count": 9,
   "metadata": {},
   "outputs": [],
   "source": [
    "input_data = np.array([3, 5])\n",
    "\n",
    "weights = {'node_0': np.array([2, 4]), 'node_1': np.array([ 4, -5]), 'output': np.array([2, 7])}"
   ]
  },
  {
   "cell_type": "code",
   "execution_count": 11,
   "metadata": {},
   "outputs": [
    {
     "data": {
      "text/plain": [
       "array([2, 4])"
      ]
     },
     "execution_count": 11,
     "metadata": {},
     "output_type": "execute_result"
    }
   ],
   "source": [
    "weights['node_0']"
   ]
  },
  {
   "cell_type": "code",
   "execution_count": 12,
   "metadata": {},
   "outputs": [
    {
     "data": {
      "text/plain": [
       "array([ 4, -5])"
      ]
     },
     "execution_count": 12,
     "metadata": {},
     "output_type": "execute_result"
    }
   ],
   "source": [
    "weights['node_1']"
   ]
  },
  {
   "cell_type": "code",
   "execution_count": 13,
   "metadata": {},
   "outputs": [
    {
     "data": {
      "text/plain": [
       "array([2, 7])"
      ]
     },
     "execution_count": 13,
     "metadata": {},
     "output_type": "execute_result"
    }
   ],
   "source": [
    "weights['output'] "
   ]
  },
  {
   "cell_type": "markdown",
   "metadata": {},
   "source": [
    "###### Coding the forward propagation algorithm\n",
    "\n",
    "I'll write code to do forward propagation (prediction) for neural network:\n",
    " \n",
    "Each data point is a customer. The first input is how many accounts they have, and the second input is how many children they have. The model will predict how many transactions the user makes in the next year. \n",
    "\n",
    "The input data has been pre-loaded as input_data, and the weights are available in a dictionary called weights. The array of weights for the first node in the hidden layer are in weights['node_0'], and the array of weights for the second node in the hidden layer are in weights['node_1'].\n",
    "\n",
    "The weights feeding into the output node are available in weights['output'].\n"
   ]
  },
  {
   "cell_type": "code",
   "execution_count": 16,
   "metadata": {},
   "outputs": [
    {
     "name": "stdout",
     "output_type": "stream",
     "text": [
      "-39\n"
     ]
    }
   ],
   "source": [
    "# Calculating node 0 value: node_0_value\n",
    "node_0_value = (input_data * weights['node_0']).sum()\n",
    "\n",
    "\n",
    "# Calculating node 1 value: node_1_value\n",
    "node_1_value = (input_data * weights['node_1']).sum()\n",
    "\n",
    "\n",
    "# Putting node values into array: hidden_layer_outputs\n",
    "hidden_layer_outputs = np.array([node_0_value, node_1_value])\n",
    "\n",
    "\n",
    "# Calculating output: output\n",
    "output = (hidden_layer_outputs * weights['output']).sum()\n",
    "\n",
    "# Printing output\n",
    "print(output)\n"
   ]
  },
  {
   "cell_type": "markdown",
   "metadata": {},
   "source": [
    "It looks like the network generated a prediction of -39."
   ]
  },
  {
   "cell_type": "markdown",
   "metadata": {},
   "source": [
    "###### The Rectified Linear Activation Function\n",
    "\n",
    "An \"activation function\" is a function applied at each node. It converts the node's input into some output.\n",
    "\n",
    "The rectified linear activation function (called ReLU) has been shown to lead to very high-performance networks. This function takes a single number as an input, returning 0 if the input is negative, and the input if the input is positive.\n",
    "\n",
    "Here are some examples:\n",
    "relu(3) = 3\n",
    "relu(-3) = 0\n"
   ]
  },
  {
   "cell_type": "code",
   "execution_count": 17,
   "metadata": {},
   "outputs": [
    {
     "name": "stdout",
     "output_type": "stream",
     "text": [
      "52\n"
     ]
    }
   ],
   "source": [
    "def relu(input):\n",
    "    '''Define your relu activation function here'''\n",
    "    # Calculating the value for the output of the relu function: output\n",
    "    output = max(0, input)\n",
    "    \n",
    "    # Returning the value just calculated\n",
    "    return(output)\n",
    "\n",
    "# Calculating node 0 value: node_0_output\n",
    "node_0_input = (input_data * weights['node_0']).sum()\n",
    "node_0_output = relu(node_0_input)\n",
    "\n",
    "# Calculating node 1 value: node_1_output\n",
    "node_1_input = (input_data * weights['node_1']).sum()\n",
    "node_1_output = relu(node_1_input)\n",
    "\n",
    "# Putting node values into array: hidden_layer_outputs\n",
    "hidden_layer_outputs = np.array([node_0_output, node_1_output])\n",
    "\n",
    "# Calculating model output (do not apply relu)\n",
    "model_output = (hidden_layer_outputs * weights['output']).sum()\n",
    "\n",
    "# Printing model output\n",
    "print(model_output)"
   ]
  },
  {
   "cell_type": "markdown",
   "metadata": {},
   "source": [
    "###### Applying the network to many observations/rows of data\n",
    "\n",
    "I'll now define a function called predict_with_network() which will generate predictions for multiple data observations, which are pre-loaded as input_data. As before, weights are also pre-loaded. \n"
   ]
  },
  {
   "cell_type": "code",
   "execution_count": 18,
   "metadata": {},
   "outputs": [],
   "source": [
    "input_data = [np.array([3, 5]), np.array([ 1, -1]), np.array([0, 0]), np.array([8, 4])]"
   ]
  },
  {
   "cell_type": "code",
   "execution_count": 19,
   "metadata": {},
   "outputs": [
    {
     "name": "stdout",
     "output_type": "stream",
     "text": [
      "[52, 63, 0, 148]\n"
     ]
    }
   ],
   "source": [
    "# Defining predict_with_network()\n",
    "def predict_with_network(input_data_row, weights):\n",
    "\n",
    "    # Calculating node 0 value\n",
    "    node_0_input = (input_data_row * weights['node_0']).sum()\n",
    "    node_0_output = relu(node_0_input)\n",
    "\n",
    "    # Calculating node 1 value\n",
    "    node_1_input = (input_data_row * weights['node_1']).sum()\n",
    "    node_1_output = relu(node_1_input)\n",
    "\n",
    "    # Putting node values into array: hidden_layer_outputs\n",
    "    hidden_layer_outputs = np.array([node_0_output, node_1_output])\n",
    "    \n",
    "    # Calculating model output\n",
    "    input_to_final_layer = (hidden_layer_outputs * weights['output']).sum()\n",
    "    model_output = relu(input_to_final_layer)\n",
    "    \n",
    "    # Returning model output\n",
    "    return(model_output)\n",
    "\n",
    "\n",
    "# Creating empty list to store prediction results\n",
    "results = []\n",
    "for input_data_row in input_data:\n",
    "    # Appending prediction to results\n",
    "    results.append(predict_with_network(input_data_row, weights))\n",
    "\n",
    "# Printing results\n",
    "print(results)\n",
    "        "
   ]
  },
  {
   "cell_type": "markdown",
   "metadata": {},
   "source": [
    "###### Multi-layer neural networks\n",
    "\n",
    "I'll write code to do forward propagation for a neural network with 2 hidden layers. Each hidden layer has two nodes. The nodes in the first hidden layer are called node_0_0 and node_0_1. Their weights are pre-loaded as weights['node_0_0'] and weights['node_0_1'] respectively.\n",
    "\n",
    "The nodes in the second hidden layer are called node_1_0 and node_1_1. Their weights are pre-loaded as weights['node_1_0'] and weights['node_1_1'] respectively.\n",
    "\n",
    "We then create a model output from the hidden nodes using weights pre-loaded as weights['output'].\n",
    "\n"
   ]
  },
  {
   "cell_type": "code",
   "execution_count": 33,
   "metadata": {},
   "outputs": [],
   "source": [
    "input_data = np.array([3, 5])"
   ]
  },
  {
   "cell_type": "code",
   "execution_count": 34,
   "metadata": {},
   "outputs": [],
   "source": [
    "weights['node_0_0'] = np.array([2, 4])"
   ]
  },
  {
   "cell_type": "code",
   "execution_count": 35,
   "metadata": {},
   "outputs": [],
   "source": [
    "weights['node_0_1'] = np.array([ 4, -5])"
   ]
  },
  {
   "cell_type": "code",
   "execution_count": 36,
   "metadata": {},
   "outputs": [],
   "source": [
    "weights['node_1_0'] = np.array([-1,  2])"
   ]
  },
  {
   "cell_type": "code",
   "execution_count": 37,
   "metadata": {},
   "outputs": [],
   "source": [
    "weights['node_1_1'] = np.array([1, 2])"
   ]
  },
  {
   "cell_type": "code",
   "execution_count": 38,
   "metadata": {},
   "outputs": [],
   "source": [
    "weights['output'] = np.array([2, 7])"
   ]
  },
  {
   "cell_type": "code",
   "execution_count": 39,
   "metadata": {},
   "outputs": [
    {
     "name": "stdout",
     "output_type": "stream",
     "text": [
      "182\n"
     ]
    }
   ],
   "source": [
    "def predict_with_network(input_data):\n",
    "    # Calculate node 0 in the first hidden layer\n",
    "    node_0_0_input = (input_data * weights['node_0_0']).sum()\n",
    "    node_0_0_output = relu(node_0_0_input)\n",
    "\n",
    "    # Calculate node 1 in the first hidden layer\n",
    "    node_0_1_input = (input_data * weights['node_0_1']).sum()\n",
    "    node_0_1_output = relu(node_0_1_input)\n",
    "\n",
    "    # Put node values into array: hidden_0_outputs\n",
    "    hidden_0_outputs = np.array([node_0_0_output, node_0_1_output])\n",
    "\n",
    "    # Calculate node 0 in the second hidden layer\n",
    "    node_1_0_input = (hidden_0_outputs * weights['node_1_0']).sum()\n",
    "    node_1_0_output = relu(node_1_0_input)\n",
    "\n",
    "    # Calculate node 1 in the second hidden layer\n",
    "    node_1_1_input = (hidden_0_outputs * weights['node_1_1']).sum()\n",
    "    node_1_1_output = relu(node_1_1_input)\n",
    "\n",
    "    # Put node values into array: hidden_1_outputs\n",
    "    hidden_1_outputs = np.array([node_1_0_output, node_1_1_output])\n",
    "    \n",
    "    # Calculate output here: model_output\n",
    "    model_output = (hidden_1_outputs * weights['output']).sum()\n",
    "    \n",
    "    # Return model_output\n",
    "    return(model_output)\n",
    "\n",
    "output = predict_with_network(input_data)\n",
    "print(output)\n"
   ]
  },
  {
   "cell_type": "markdown",
   "metadata": {},
   "source": [
    "###### Representations are learned\n",
    "\n",
    "How are the weights that determine the features/interactions in Neural Networks created?\n",
    "\n",
    "•\tA user chooses them when creating the model.\n",
    "\n",
    "•\tThe model training process sets them to optimize predictive accuracy. - Answer\n",
    "\n",
    "•\tThe weights are random numbers.\n"
   ]
  },
  {
   "cell_type": "markdown",
   "metadata": {},
   "source": [
    "###### Levels of representation\n",
    "\n",
    "Which layers of a model capture more complex or \"higher level\" interactions?\n",
    "\n",
    "• The first layers capture the most complex interactions.\n",
    "\n",
    "• The last layers capture the most complex interactions. - Answer\n",
    "\n",
    "• All layers capture interactions of similar complexity.\n"
   ]
  },
  {
   "cell_type": "markdown",
   "metadata": {},
   "source": [
    "###### Coding how weight changes affect accuracy\n",
    "\n",
    "Now I'll get to change weights in a real network and see how they affect model accuracy!\n",
    "\n",
    "Have a look at the following neural network:  \n",
    "    \n",
    "Its weights have been pre-loaded as weights_0. I'll update a single weight in weights_0 to create weights_1, which gives a perfect prediction (in which the predicted value is equal to target_actual: 3).\n"
   ]
  },
  {
   "cell_type": "code",
   "execution_count": null,
   "metadata": {},
   "outputs": [],
   "source": [
    "# The data point I will make a prediction for\n",
    "input_data = np.array([0, 3])\n",
    "\n",
    "# Sample weights\n",
    "weights_0 = {'node_0': [2, 1],\n",
    "             'node_1': [1, 2],\n",
    "             'output': [1, 1]\n",
    "            }\n",
    "\n",
    "# The actual target value, used to calculate the error\n",
    "target_actual = 3\n",
    "\n",
    "# Making prediction using original weights\n",
    "model_output_0 = predict_with_network(input_data, weights_0)\n",
    "\n",
    "# Calculating error: error_0\n",
    "error_0 = model_output_0 - target_actual\n",
    "\n",
    "# Creating weights that cause the network to make perfect prediction (3): weights_1\n",
    "weights_1 = {'node_0': [2, 1],\n",
    "             'node_1': [1, -2],\n",
    "             'output': [1, 1]\n",
    "            }\n",
    "\n",
    "# Making prediction using new weights: model_output_1\n",
    "model_output_1 = predict_with_network(input_data, weights_1)\n",
    "\n",
    "# Calculating error: error_1\n",
    "error_1 = model_output_1 - target_actual\n",
    "\n",
    "# Printing error_0 and error_1\n",
    "print(error_0)\n",
    "print(error_1)\n"
   ]
  },
  {
   "cell_type": "markdown",
   "metadata": {},
   "source": [
    "The network now generates a perfect prediction with an error of 0."
   ]
  },
  {
   "cell_type": "markdown",
   "metadata": {},
   "source": [
    "###### Scaling up to multiple data points\n",
    "\n",
    "We've seen how different weights will have different accuracies on a single prediction. But usually, we'll want to measure model accuracy on many points. I'll now write code to compare model accuracies for two different sets of weights, which have been stored as weights_0 and weights_1.\n",
    "\n",
    "input_data is a list of arrays. Each item in that list contains the data to make a single prediction. target_actuals is a list of numbers. Each item in that list is the actual value we are trying to predict.\n",
    "\n",
    "I'll use the mean_squared_error() function from sklearn.metrics. It takes the true values and the predicted values as arguments.\n",
    "\n",
    "I'll also use the preloaded predict_with_network() function, which takes an array of data as the first argument, and weights as the second argument.\n"
   ]
  },
  {
   "cell_type": "code",
   "execution_count": 62,
   "metadata": {},
   "outputs": [],
   "source": [
    "weights_0 = {'node_0': np.array([2, 1]), 'node_1': np.array([1, 2]), 'output': np.array([1, 1])}"
   ]
  },
  {
   "cell_type": "code",
   "execution_count": 63,
   "metadata": {},
   "outputs": [],
   "source": [
    "weights_1 = {'node_0': np.array([2, 1]),\n",
    " 'node_1': np.array([1. , 1.5]),\n",
    " 'output': np.array([1. , 1.5])}"
   ]
  },
  {
   "cell_type": "code",
   "execution_count": 64,
   "metadata": {},
   "outputs": [],
   "source": [
    "input_data = [np.array([0, 3]), np.array([1, 2]), np.array([-1, -2]), np.array([4, 0])]\n"
   ]
  },
  {
   "cell_type": "code",
   "execution_count": 65,
   "metadata": {},
   "outputs": [],
   "source": [
    "target_actuals = [1, 3, 5, 7]"
   ]
  },
  {
   "cell_type": "code",
   "execution_count": null,
   "metadata": {},
   "outputs": [],
   "source": [
    "from sklearn.metrics import mean_squared_error\n",
    "\n",
    "# Creating model_output_0 \n",
    "model_output_0 = []\n",
    "# Creating model_output_1\n",
    "model_output_1 = []\n",
    "\n",
    "# Looping over input_data\n",
    "for row in input_data:\n",
    "    # Appending prediction to model_output_0\n",
    "    model_output_0.append(predict_with_network(row, weights_0))\n",
    "    \n",
    "     # Appending prediction to model_output_1\n",
    "    model_output_1.append(predict_with_network(row, weights_1))\n",
    "\n",
    "# Calculating the mean squared error for model_output_0: mse_0\n",
    "mse_0 = mean_squared_error(target_actuals, model_output_0)\n",
    "\n",
    "# Calculating the mean squared error for model_output_1: mse_1\n",
    "mse_1 = mean_squared_error(target_actuals, model_output_1)\n",
    "\n",
    "# Printing mse_0 and mse_1\n",
    "print(\"Mean squared error with weights_0: %f\" %mse_0)\n",
    "print(\"Mean squared error with weights_1: %f\" %mse_1)\n"
   ]
  },
  {
   "cell_type": "markdown",
   "metadata": {},
   "source": [
    "###### Calculating slopes\n",
    "\n",
    "I'm now going to practice calculating slopes. When plotting the mean-squared error loss function against predictions, the slope is 2 * x * (xb-y), or 2 * input_data * error. Note that x and b may have multiple numbers (x is a vector for each data point, and b is a vector). In this case, the output will also be a vector, which is exactly what we want.\n",
    "\n",
    "We're ready to write the code to calculate this slope while using a single data point. I'll use pre-defined weights called weights as well as data for a single point called input_data. The actual value of the target we want to predict is stored in target.\n"
   ]
  },
  {
   "cell_type": "code",
   "execution_count": 72,
   "metadata": {},
   "outputs": [],
   "source": [
    "weights = np.array([0, 2, 1])"
   ]
  },
  {
   "cell_type": "code",
   "execution_count": 73,
   "metadata": {},
   "outputs": [],
   "source": [
    "input_data = np.array([1, 2, 3])"
   ]
  },
  {
   "cell_type": "code",
   "execution_count": 74,
   "metadata": {},
   "outputs": [],
   "source": [
    "target = 0"
   ]
  },
  {
   "cell_type": "code",
   "execution_count": 75,
   "metadata": {},
   "outputs": [
    {
     "name": "stdout",
     "output_type": "stream",
     "text": [
      "[14 28 42]\n"
     ]
    }
   ],
   "source": [
    "# Calculate the predictions: preds\n",
    "preds = (weights * input_data).sum()\n",
    "\n",
    "# Calculate the error: error\n",
    "error = preds - target\n",
    "\n",
    "# Calculate the slope: slope\n",
    "slope = 2 * input_data * error\n",
    "\n",
    "# Print the slope\n",
    "print(slope)\n"
   ]
  },
  {
   "cell_type": "markdown",
   "metadata": {},
   "source": [
    "We can now use this slope to improve the weights of the model!"
   ]
  },
  {
   "cell_type": "markdown",
   "metadata": {},
   "source": [
    "###### Improving model weights\n",
    "\n",
    "I've just calculated the slopes needded. Now it's time to use those slopes to improve model. If we add the slopes to the weights, we will move in the right direction. However, it's possible to move too far in that direction. So you will want to take a small step in that direction first, using a lower learning rate, and verify that the model is improving.\n",
    "\n",
    "The weights have been pre-loaded as weights, the actual value of the target as target, and the input data as input_data. The predictions from the initial weights are stored as preds.\n"
   ]
  },
  {
   "cell_type": "code",
   "execution_count": 76,
   "metadata": {},
   "outputs": [
    {
     "name": "stdout",
     "output_type": "stream",
     "text": [
      "7\n",
      "5.04\n"
     ]
    }
   ],
   "source": [
    "# Setting the learning rate: learning_rate\n",
    "learning_rate = 0.01\n",
    "\n",
    "# Calculating the predictions: preds\n",
    "preds = (weights * input_data).sum()\n",
    "\n",
    "# Calculating the error: error\n",
    "error = preds - target\n",
    "\n",
    "# Calculating the slope: slope\n",
    "slope = 2 * input_data * error\n",
    "\n",
    "# Updating the weights: weights_updated\n",
    "weights_updated = weights - learning_rate * slope\n",
    "\n",
    "# Getting updated predictions: preds_updated\n",
    "preds_updated = (weights_updated * input_data).sum()\n",
    "\n",
    "# Calculating updated error: error_updated\n",
    "error_updated = preds_updated - target\n",
    "\n",
    "# Printing the original error\n",
    "print(error)\n",
    "\n",
    "# Printing the updated error\n",
    "print(error_updated)\n"
   ]
  },
  {
   "cell_type": "markdown",
   "metadata": {},
   "source": [
    "###### Making multiple updates to weights\n",
    "\n",
    "We're now going to make multiple updates so we can dramatically improve the model weights, and see how the predictions improve with each update.\n",
    "\n",
    "To keep the code clean, there is a pre-loaded get_slope() function that takes input_data, target, and weights as arguments. There is also a get_mse() function that takes the same arguments. The input_data, target, and weights have been pre-loaded.\n",
    "\n",
    "This network does not have any hidden layers, and it goes directly from the input (with 3 nodes) to an output node. Note that weights is a single array.\n",
    "\n",
    "We have also pre-loaded matplotlib.pyplot, and the error history will be plotted after you have done your gradient descent steps."
   ]
  },
  {
   "cell_type": "code",
   "execution_count": 93,
   "metadata": {},
   "outputs": [],
   "source": [
    "import matplotlib.pyplot as plt"
   ]
  },
  {
   "cell_type": "code",
   "execution_count": null,
   "metadata": {},
   "outputs": [],
   "source": [
    "n_updates = 20\n",
    "mse_hist = []\n",
    "\n",
    "# Iterating over the number of updates\n",
    "for i in range(n_updates):\n",
    "    # Calculating the slope: slope\n",
    "    slope = get_slope(input_data, target, weights)\n",
    "    \n",
    "    # Updating the weights: weights\n",
    "    weights = weights - 0.01 * slope\n",
    "    \n",
    "    # Calculating mse with new weights: mse\n",
    "    mse = get_mse(input_data, target, weights)\n",
    "    \n",
    "    # Appening the mse to mse_hist\n",
    "    mse_hist.append(mse)\n",
    "\n",
    "# Plotting the mse history\n",
    "plt.plot(mse_hist)\n",
    "plt.xlabel('Iterations')\n",
    "plt.ylabel('Mean Squared Error')\n",
    "plt.show()\n"
   ]
  },
  {
   "cell_type": "markdown",
   "metadata": {},
   "source": [
    "As we can see, the mean squared error decreases as the number of iterations go up."
   ]
  },
  {
   "cell_type": "markdown",
   "metadata": {},
   "source": [
    "###### The relationship between forward and backward propagation\n",
    "\n",
    "If we have gone through 4 iterations of calculating slopes (using backward propagation) and then updated weights, how many times must we have done forward propagation?\n",
    "4 \n",
    "\n",
    "Each time we generate predictions using forward propagation, we update the weights using backward propagation.\n"
   ]
  },
  {
   "cell_type": "markdown",
   "metadata": {},
   "source": [
    "###### Thinking about backward propagation\n",
    "\n",
    "If our predictions were all exactly right, and our errors were all exactly 0, the slope of the loss function with respect to our predictions would also be 0. In that circumstance, which of the following statements would be correct?\n",
    "\n",
    "• The updates to all weights in the network would also be 0. - correct \n",
    "\n",
    "• The updates to all weights in the network would be dependent on the activation functions.\n",
    "\n",
    "• The updates to all weights in the network would be proportional to values from the input data.\n"
   ]
  },
  {
   "cell_type": "markdown",
   "metadata": {},
   "source": [
    "###### Understanding the data\n",
    "\n",
    "I will soon start building models in Keras to predict wages based on various professional and demographic factors. Before we start building a model, it's good to understand the data by performing some exploratory analysis.\n",
    "\n",
    "The data is pre-loaded into a pandas DataFrame called df. Using the .head() and .describe() methods in the IPython Shell for a quick overview of the DataFrame.\n",
    "\n",
    "The target variable we'll be predicting is wage_per_hour. Some of the predictor variables are binary indicators, where a value of 1 represents True, and 0 represents False.\n",
    "\n",
    "Of the 9 predictor variables in the DataFrame, how many are binary indicators? The min and max values as shown by .describe() will be informative here. How many binary indicator predictors are there?"
   ]
  },
  {
   "cell_type": "code",
   "execution_count": 96,
   "metadata": {},
   "outputs": [],
   "source": [
    "import pandas as pd\n",
    "df = pd.read_csv('hourly_wages.csv')"
   ]
  },
  {
   "cell_type": "code",
   "execution_count": 97,
   "metadata": {},
   "outputs": [
    {
     "data": {
      "text/html": [
       "<div>\n",
       "<style scoped>\n",
       "    .dataframe tbody tr th:only-of-type {\n",
       "        vertical-align: middle;\n",
       "    }\n",
       "\n",
       "    .dataframe tbody tr th {\n",
       "        vertical-align: top;\n",
       "    }\n",
       "\n",
       "    .dataframe thead th {\n",
       "        text-align: right;\n",
       "    }\n",
       "</style>\n",
       "<table border=\"1\" class=\"dataframe\">\n",
       "  <thead>\n",
       "    <tr style=\"text-align: right;\">\n",
       "      <th></th>\n",
       "      <th>wage_per_hour</th>\n",
       "      <th>union</th>\n",
       "      <th>education_yrs</th>\n",
       "      <th>experience_yrs</th>\n",
       "      <th>age</th>\n",
       "      <th>female</th>\n",
       "      <th>marr</th>\n",
       "      <th>south</th>\n",
       "      <th>manufacturing</th>\n",
       "      <th>construction</th>\n",
       "    </tr>\n",
       "  </thead>\n",
       "  <tbody>\n",
       "    <tr>\n",
       "      <td>0</td>\n",
       "      <td>5.10</td>\n",
       "      <td>0</td>\n",
       "      <td>8</td>\n",
       "      <td>21</td>\n",
       "      <td>35</td>\n",
       "      <td>1</td>\n",
       "      <td>1</td>\n",
       "      <td>0</td>\n",
       "      <td>1</td>\n",
       "      <td>0</td>\n",
       "    </tr>\n",
       "    <tr>\n",
       "      <td>1</td>\n",
       "      <td>4.95</td>\n",
       "      <td>0</td>\n",
       "      <td>9</td>\n",
       "      <td>42</td>\n",
       "      <td>57</td>\n",
       "      <td>1</td>\n",
       "      <td>1</td>\n",
       "      <td>0</td>\n",
       "      <td>1</td>\n",
       "      <td>0</td>\n",
       "    </tr>\n",
       "    <tr>\n",
       "      <td>2</td>\n",
       "      <td>6.67</td>\n",
       "      <td>0</td>\n",
       "      <td>12</td>\n",
       "      <td>1</td>\n",
       "      <td>19</td>\n",
       "      <td>0</td>\n",
       "      <td>0</td>\n",
       "      <td>0</td>\n",
       "      <td>1</td>\n",
       "      <td>0</td>\n",
       "    </tr>\n",
       "    <tr>\n",
       "      <td>3</td>\n",
       "      <td>4.00</td>\n",
       "      <td>0</td>\n",
       "      <td>12</td>\n",
       "      <td>4</td>\n",
       "      <td>22</td>\n",
       "      <td>0</td>\n",
       "      <td>0</td>\n",
       "      <td>0</td>\n",
       "      <td>0</td>\n",
       "      <td>0</td>\n",
       "    </tr>\n",
       "    <tr>\n",
       "      <td>4</td>\n",
       "      <td>7.50</td>\n",
       "      <td>0</td>\n",
       "      <td>12</td>\n",
       "      <td>17</td>\n",
       "      <td>35</td>\n",
       "      <td>0</td>\n",
       "      <td>1</td>\n",
       "      <td>0</td>\n",
       "      <td>0</td>\n",
       "      <td>0</td>\n",
       "    </tr>\n",
       "  </tbody>\n",
       "</table>\n",
       "</div>"
      ],
      "text/plain": [
       "   wage_per_hour  union  education_yrs  experience_yrs  age  female  marr  \\\n",
       "0           5.10      0              8              21   35       1     1   \n",
       "1           4.95      0              9              42   57       1     1   \n",
       "2           6.67      0             12               1   19       0     0   \n",
       "3           4.00      0             12               4   22       0     0   \n",
       "4           7.50      0             12              17   35       0     1   \n",
       "\n",
       "   south  manufacturing  construction  \n",
       "0      0              1             0  \n",
       "1      0              1             0  \n",
       "2      0              1             0  \n",
       "3      0              0             0  \n",
       "4      0              0             0  "
      ]
     },
     "execution_count": 97,
     "metadata": {},
     "output_type": "execute_result"
    }
   ],
   "source": [
    "df.head()"
   ]
  },
  {
   "cell_type": "code",
   "execution_count": 98,
   "metadata": {},
   "outputs": [
    {
     "data": {
      "text/html": [
       "<div>\n",
       "<style scoped>\n",
       "    .dataframe tbody tr th:only-of-type {\n",
       "        vertical-align: middle;\n",
       "    }\n",
       "\n",
       "    .dataframe tbody tr th {\n",
       "        vertical-align: top;\n",
       "    }\n",
       "\n",
       "    .dataframe thead th {\n",
       "        text-align: right;\n",
       "    }\n",
       "</style>\n",
       "<table border=\"1\" class=\"dataframe\">\n",
       "  <thead>\n",
       "    <tr style=\"text-align: right;\">\n",
       "      <th></th>\n",
       "      <th>wage_per_hour</th>\n",
       "      <th>union</th>\n",
       "      <th>education_yrs</th>\n",
       "      <th>experience_yrs</th>\n",
       "      <th>age</th>\n",
       "      <th>female</th>\n",
       "      <th>marr</th>\n",
       "      <th>south</th>\n",
       "      <th>manufacturing</th>\n",
       "      <th>construction</th>\n",
       "    </tr>\n",
       "  </thead>\n",
       "  <tbody>\n",
       "    <tr>\n",
       "      <td>count</td>\n",
       "      <td>534.000000</td>\n",
       "      <td>534.000000</td>\n",
       "      <td>534.000000</td>\n",
       "      <td>534.000000</td>\n",
       "      <td>534.000000</td>\n",
       "      <td>534.000000</td>\n",
       "      <td>534.000000</td>\n",
       "      <td>534.000000</td>\n",
       "      <td>534.000000</td>\n",
       "      <td>534.000000</td>\n",
       "    </tr>\n",
       "    <tr>\n",
       "      <td>mean</td>\n",
       "      <td>9.024064</td>\n",
       "      <td>0.179775</td>\n",
       "      <td>13.018727</td>\n",
       "      <td>17.822097</td>\n",
       "      <td>36.833333</td>\n",
       "      <td>0.458801</td>\n",
       "      <td>0.655431</td>\n",
       "      <td>0.292135</td>\n",
       "      <td>0.185393</td>\n",
       "      <td>0.044944</td>\n",
       "    </tr>\n",
       "    <tr>\n",
       "      <td>std</td>\n",
       "      <td>5.139097</td>\n",
       "      <td>0.384360</td>\n",
       "      <td>2.615373</td>\n",
       "      <td>12.379710</td>\n",
       "      <td>11.726573</td>\n",
       "      <td>0.498767</td>\n",
       "      <td>0.475673</td>\n",
       "      <td>0.455170</td>\n",
       "      <td>0.388981</td>\n",
       "      <td>0.207375</td>\n",
       "    </tr>\n",
       "    <tr>\n",
       "      <td>min</td>\n",
       "      <td>1.000000</td>\n",
       "      <td>0.000000</td>\n",
       "      <td>2.000000</td>\n",
       "      <td>0.000000</td>\n",
       "      <td>18.000000</td>\n",
       "      <td>0.000000</td>\n",
       "      <td>0.000000</td>\n",
       "      <td>0.000000</td>\n",
       "      <td>0.000000</td>\n",
       "      <td>0.000000</td>\n",
       "    </tr>\n",
       "    <tr>\n",
       "      <td>25%</td>\n",
       "      <td>5.250000</td>\n",
       "      <td>0.000000</td>\n",
       "      <td>12.000000</td>\n",
       "      <td>8.000000</td>\n",
       "      <td>28.000000</td>\n",
       "      <td>0.000000</td>\n",
       "      <td>0.000000</td>\n",
       "      <td>0.000000</td>\n",
       "      <td>0.000000</td>\n",
       "      <td>0.000000</td>\n",
       "    </tr>\n",
       "    <tr>\n",
       "      <td>50%</td>\n",
       "      <td>7.780000</td>\n",
       "      <td>0.000000</td>\n",
       "      <td>12.000000</td>\n",
       "      <td>15.000000</td>\n",
       "      <td>35.000000</td>\n",
       "      <td>0.000000</td>\n",
       "      <td>1.000000</td>\n",
       "      <td>0.000000</td>\n",
       "      <td>0.000000</td>\n",
       "      <td>0.000000</td>\n",
       "    </tr>\n",
       "    <tr>\n",
       "      <td>75%</td>\n",
       "      <td>11.250000</td>\n",
       "      <td>0.000000</td>\n",
       "      <td>15.000000</td>\n",
       "      <td>26.000000</td>\n",
       "      <td>44.000000</td>\n",
       "      <td>1.000000</td>\n",
       "      <td>1.000000</td>\n",
       "      <td>1.000000</td>\n",
       "      <td>0.000000</td>\n",
       "      <td>0.000000</td>\n",
       "    </tr>\n",
       "    <tr>\n",
       "      <td>max</td>\n",
       "      <td>44.500000</td>\n",
       "      <td>1.000000</td>\n",
       "      <td>18.000000</td>\n",
       "      <td>55.000000</td>\n",
       "      <td>64.000000</td>\n",
       "      <td>1.000000</td>\n",
       "      <td>1.000000</td>\n",
       "      <td>1.000000</td>\n",
       "      <td>1.000000</td>\n",
       "      <td>1.000000</td>\n",
       "    </tr>\n",
       "  </tbody>\n",
       "</table>\n",
       "</div>"
      ],
      "text/plain": [
       "       wage_per_hour       union  education_yrs  experience_yrs         age  \\\n",
       "count     534.000000  534.000000     534.000000      534.000000  534.000000   \n",
       "mean        9.024064    0.179775      13.018727       17.822097   36.833333   \n",
       "std         5.139097    0.384360       2.615373       12.379710   11.726573   \n",
       "min         1.000000    0.000000       2.000000        0.000000   18.000000   \n",
       "25%         5.250000    0.000000      12.000000        8.000000   28.000000   \n",
       "50%         7.780000    0.000000      12.000000       15.000000   35.000000   \n",
       "75%        11.250000    0.000000      15.000000       26.000000   44.000000   \n",
       "max        44.500000    1.000000      18.000000       55.000000   64.000000   \n",
       "\n",
       "           female        marr       south  manufacturing  construction  \n",
       "count  534.000000  534.000000  534.000000     534.000000    534.000000  \n",
       "mean     0.458801    0.655431    0.292135       0.185393      0.044944  \n",
       "std      0.498767    0.475673    0.455170       0.388981      0.207375  \n",
       "min      0.000000    0.000000    0.000000       0.000000      0.000000  \n",
       "25%      0.000000    0.000000    0.000000       0.000000      0.000000  \n",
       "50%      0.000000    1.000000    0.000000       0.000000      0.000000  \n",
       "75%      1.000000    1.000000    1.000000       0.000000      0.000000  \n",
       "max      1.000000    1.000000    1.000000       1.000000      1.000000  "
      ]
     },
     "execution_count": 98,
     "metadata": {},
     "output_type": "execute_result"
    }
   ],
   "source": [
    "df.describe()"
   ]
  },
  {
   "cell_type": "markdown",
   "metadata": {},
   "source": [
    "There are 6 binary indicators."
   ]
  },
  {
   "cell_type": "code",
   "execution_count": 121,
   "metadata": {},
   "outputs": [],
   "source": [
    "predictors = df[['union', 'education_yrs', 'experience_yrs', 'age', 'female', 'marr', 'south', 'manufacturing', 'construction']].values"
   ]
  },
  {
   "cell_type": "code",
   "execution_count": 122,
   "metadata": {},
   "outputs": [
    {
     "data": {
      "text/plain": [
       "array([[ 0,  8, 21, ...,  0,  1,  0],\n",
       "       [ 0,  9, 42, ...,  0,  1,  0],\n",
       "       [ 0, 12,  1, ...,  0,  1,  0],\n",
       "       ...,\n",
       "       [ 1, 17, 25, ...,  0,  0,  0],\n",
       "       [ 1, 12, 13, ...,  1,  0,  0],\n",
       "       [ 0, 16, 33, ...,  0,  1,  0]])"
      ]
     },
     "execution_count": 122,
     "metadata": {},
     "output_type": "execute_result"
    }
   ],
   "source": [
    "predictors"
   ]
  },
  {
   "cell_type": "code",
   "execution_count": 119,
   "metadata": {},
   "outputs": [],
   "source": [
    "label = df[['wage_per_hour']].values"
   ]
  },
  {
   "cell_type": "code",
   "execution_count": 120,
   "metadata": {},
   "outputs": [
    {
     "data": {
      "text/plain": [
       "array([[ 5.1 ],\n",
       "       [ 4.95],\n",
       "       [ 6.67],\n",
       "       [ 4.  ],\n",
       "       [ 7.5 ],\n",
       "       [13.07],\n",
       "       [ 4.45],\n",
       "       [19.47],\n",
       "       [13.28],\n",
       "       [ 8.75],\n",
       "       [11.35],\n",
       "       [11.5 ],\n",
       "       [ 6.5 ],\n",
       "       [ 6.25],\n",
       "       [19.98],\n",
       "       [ 7.3 ],\n",
       "       [ 8.  ],\n",
       "       [22.2 ],\n",
       "       [ 3.65],\n",
       "       [20.55],\n",
       "       [ 5.71],\n",
       "       [ 7.  ],\n",
       "       [ 3.75],\n",
       "       [ 4.5 ],\n",
       "       [ 9.56],\n",
       "       [ 5.75],\n",
       "       [ 9.36],\n",
       "       [ 6.5 ],\n",
       "       [ 3.35],\n",
       "       [ 4.75],\n",
       "       [ 8.9 ],\n",
       "       [ 4.  ],\n",
       "       [ 4.7 ],\n",
       "       [ 5.  ],\n",
       "       [ 9.25],\n",
       "       [10.67],\n",
       "       [ 7.61],\n",
       "       [10.  ],\n",
       "       [ 7.5 ],\n",
       "       [12.2 ],\n",
       "       [ 3.35],\n",
       "       [11.  ],\n",
       "       [12.  ],\n",
       "       [ 4.85],\n",
       "       [ 4.3 ],\n",
       "       [ 6.  ],\n",
       "       [15.  ],\n",
       "       [ 4.85],\n",
       "       [ 9.  ],\n",
       "       [ 6.36],\n",
       "       [ 9.15],\n",
       "       [11.  ],\n",
       "       [ 4.5 ],\n",
       "       [ 4.8 ],\n",
       "       [ 4.  ],\n",
       "       [ 5.5 ],\n",
       "       [ 8.4 ],\n",
       "       [ 6.75],\n",
       "       [10.  ],\n",
       "       [ 5.  ],\n",
       "       [ 6.5 ],\n",
       "       [10.75],\n",
       "       [ 7.  ],\n",
       "       [11.43],\n",
       "       [ 4.  ],\n",
       "       [ 9.  ],\n",
       "       [13.  ],\n",
       "       [12.22],\n",
       "       [ 6.28],\n",
       "       [ 6.75],\n",
       "       [ 3.35],\n",
       "       [16.  ],\n",
       "       [ 5.25],\n",
       "       [ 3.5 ],\n",
       "       [ 4.22],\n",
       "       [ 3.  ],\n",
       "       [ 4.  ],\n",
       "       [10.  ],\n",
       "       [ 5.  ],\n",
       "       [16.  ],\n",
       "       [13.98],\n",
       "       [13.26],\n",
       "       [ 6.1 ],\n",
       "       [ 3.75],\n",
       "       [ 9.  ],\n",
       "       [ 9.45],\n",
       "       [ 5.5 ],\n",
       "       [ 8.93],\n",
       "       [ 6.25],\n",
       "       [ 9.75],\n",
       "       [ 6.73],\n",
       "       [ 7.78],\n",
       "       [ 2.85],\n",
       "       [ 3.35],\n",
       "       [19.98],\n",
       "       [ 8.5 ],\n",
       "       [ 9.75],\n",
       "       [15.  ],\n",
       "       [ 8.  ],\n",
       "       [11.25],\n",
       "       [14.  ],\n",
       "       [10.  ],\n",
       "       [ 6.5 ],\n",
       "       [ 9.83],\n",
       "       [18.5 ],\n",
       "       [12.5 ],\n",
       "       [26.  ],\n",
       "       [14.  ],\n",
       "       [10.5 ],\n",
       "       [11.  ],\n",
       "       [12.47],\n",
       "       [12.5 ],\n",
       "       [15.  ],\n",
       "       [ 6.  ],\n",
       "       [ 9.5 ],\n",
       "       [ 5.  ],\n",
       "       [ 3.75],\n",
       "       [12.57],\n",
       "       [ 6.88],\n",
       "       [ 5.5 ],\n",
       "       [ 7.  ],\n",
       "       [ 4.5 ],\n",
       "       [ 6.5 ],\n",
       "       [12.  ],\n",
       "       [ 5.  ],\n",
       "       [ 6.5 ],\n",
       "       [ 6.8 ],\n",
       "       [ 8.75],\n",
       "       [ 3.75],\n",
       "       [ 4.5 ],\n",
       "       [ 6.  ],\n",
       "       [ 5.5 ],\n",
       "       [13.  ],\n",
       "       [ 5.65],\n",
       "       [ 4.8 ],\n",
       "       [ 7.  ],\n",
       "       [ 5.25],\n",
       "       [ 3.35],\n",
       "       [ 8.5 ],\n",
       "       [ 6.  ],\n",
       "       [ 6.75],\n",
       "       [ 8.89],\n",
       "       [14.21],\n",
       "       [10.78],\n",
       "       [ 8.9 ],\n",
       "       [ 7.5 ],\n",
       "       [ 4.5 ],\n",
       "       [11.25],\n",
       "       [13.45],\n",
       "       [ 6.  ],\n",
       "       [ 4.62],\n",
       "       [10.58],\n",
       "       [ 5.  ],\n",
       "       [ 8.2 ],\n",
       "       [ 6.25],\n",
       "       [ 8.5 ],\n",
       "       [24.98],\n",
       "       [16.65],\n",
       "       [ 6.25],\n",
       "       [ 4.55],\n",
       "       [11.25],\n",
       "       [21.25],\n",
       "       [12.65],\n",
       "       [ 7.5 ],\n",
       "       [10.25],\n",
       "       [ 3.35],\n",
       "       [13.45],\n",
       "       [ 4.84],\n",
       "       [26.29],\n",
       "       [ 6.58],\n",
       "       [44.5 ],\n",
       "       [15.  ],\n",
       "       [11.25],\n",
       "       [ 7.  ],\n",
       "       [10.  ],\n",
       "       [14.53],\n",
       "       [20.  ],\n",
       "       [22.5 ],\n",
       "       [ 3.64],\n",
       "       [10.62],\n",
       "       [24.98],\n",
       "       [ 6.  ],\n",
       "       [19.  ],\n",
       "       [13.2 ],\n",
       "       [22.5 ],\n",
       "       [15.  ],\n",
       "       [ 6.88],\n",
       "       [11.84],\n",
       "       [16.14],\n",
       "       [13.95],\n",
       "       [13.16],\n",
       "       [ 5.3 ],\n",
       "       [ 4.5 ],\n",
       "       [10.  ],\n",
       "       [10.  ],\n",
       "       [10.  ],\n",
       "       [ 9.37],\n",
       "       [ 5.8 ],\n",
       "       [17.86],\n",
       "       [ 1.  ],\n",
       "       [ 8.8 ],\n",
       "       [ 9.  ],\n",
       "       [18.16],\n",
       "       [ 7.81],\n",
       "       [10.62],\n",
       "       [ 4.5 ],\n",
       "       [17.25],\n",
       "       [10.5 ],\n",
       "       [ 9.22],\n",
       "       [15.  ],\n",
       "       [22.5 ],\n",
       "       [ 4.55],\n",
       "       [ 9.  ],\n",
       "       [13.33],\n",
       "       [15.  ],\n",
       "       [ 7.5 ],\n",
       "       [ 4.25],\n",
       "       [12.5 ],\n",
       "       [ 5.13],\n",
       "       [ 3.35],\n",
       "       [11.11],\n",
       "       [ 3.84],\n",
       "       [ 6.4 ],\n",
       "       [ 5.56],\n",
       "       [10.  ],\n",
       "       [ 5.65],\n",
       "       [11.5 ],\n",
       "       [ 3.5 ],\n",
       "       [ 3.35],\n",
       "       [ 4.75],\n",
       "       [19.98],\n",
       "       [ 3.5 ],\n",
       "       [ 4.  ],\n",
       "       [ 7.  ],\n",
       "       [ 6.25],\n",
       "       [ 4.5 ],\n",
       "       [14.29],\n",
       "       [ 5.  ],\n",
       "       [13.75],\n",
       "       [13.71],\n",
       "       [ 7.5 ],\n",
       "       [ 3.8 ],\n",
       "       [ 5.  ],\n",
       "       [ 9.42],\n",
       "       [ 5.5 ],\n",
       "       [ 3.75],\n",
       "       [ 3.5 ],\n",
       "       [ 5.8 ],\n",
       "       [12.  ],\n",
       "       [ 5.  ],\n",
       "       [ 8.75],\n",
       "       [10.  ],\n",
       "       [ 8.5 ],\n",
       "       [ 8.63],\n",
       "       [ 9.  ],\n",
       "       [ 5.5 ],\n",
       "       [11.11],\n",
       "       [10.  ],\n",
       "       [ 5.2 ],\n",
       "       [ 8.  ],\n",
       "       [ 3.56],\n",
       "       [ 5.2 ],\n",
       "       [11.67],\n",
       "       [11.32],\n",
       "       [ 7.5 ],\n",
       "       [ 5.5 ],\n",
       "       [ 5.  ],\n",
       "       [ 7.75],\n",
       "       [ 5.25],\n",
       "       [ 9.  ],\n",
       "       [ 9.65],\n",
       "       [ 5.21],\n",
       "       [ 7.  ],\n",
       "       [12.16],\n",
       "       [ 5.25],\n",
       "       [10.32],\n",
       "       [ 3.35],\n",
       "       [ 7.7 ],\n",
       "       [ 9.17],\n",
       "       [ 8.43],\n",
       "       [ 4.  ],\n",
       "       [ 4.13],\n",
       "       [ 3.  ],\n",
       "       [ 4.25],\n",
       "       [ 7.53],\n",
       "       [10.53],\n",
       "       [ 5.  ],\n",
       "       [15.03],\n",
       "       [11.25],\n",
       "       [ 6.25],\n",
       "       [ 3.5 ],\n",
       "       [ 6.85],\n",
       "       [12.5 ],\n",
       "       [12.  ],\n",
       "       [ 6.  ],\n",
       "       [ 9.5 ],\n",
       "       [ 4.1 ],\n",
       "       [10.43],\n",
       "       [ 5.  ],\n",
       "       [ 7.69],\n",
       "       [ 5.5 ],\n",
       "       [ 6.4 ],\n",
       "       [12.5 ],\n",
       "       [ 6.25],\n",
       "       [ 8.  ],\n",
       "       [ 9.6 ],\n",
       "       [ 9.1 ],\n",
       "       [ 7.5 ],\n",
       "       [ 5.  ],\n",
       "       [ 7.  ],\n",
       "       [ 3.55],\n",
       "       [ 8.5 ],\n",
       "       [ 4.5 ],\n",
       "       [ 7.88],\n",
       "       [ 5.25],\n",
       "       [ 5.  ],\n",
       "       [ 9.33],\n",
       "       [10.5 ],\n",
       "       [ 7.5 ],\n",
       "       [ 9.5 ],\n",
       "       [ 9.6 ],\n",
       "       [ 5.87],\n",
       "       [11.02],\n",
       "       [ 5.  ],\n",
       "       [ 5.62],\n",
       "       [12.5 ],\n",
       "       [10.81],\n",
       "       [ 5.4 ],\n",
       "       [ 7.  ],\n",
       "       [ 4.59],\n",
       "       [ 6.  ],\n",
       "       [11.71],\n",
       "       [ 5.62],\n",
       "       [ 5.5 ],\n",
       "       [ 4.85],\n",
       "       [ 6.75],\n",
       "       [ 4.25],\n",
       "       [ 5.75],\n",
       "       [ 3.5 ],\n",
       "       [ 3.35],\n",
       "       [10.62],\n",
       "       [ 8.  ],\n",
       "       [ 4.75],\n",
       "       [ 8.5 ],\n",
       "       [ 8.85],\n",
       "       [ 8.  ],\n",
       "       [ 6.  ],\n",
       "       [ 7.14],\n",
       "       [ 3.4 ],\n",
       "       [ 6.  ],\n",
       "       [ 3.75],\n",
       "       [ 8.89],\n",
       "       [ 4.35],\n",
       "       [13.1 ],\n",
       "       [ 4.35],\n",
       "       [ 3.5 ],\n",
       "       [ 3.8 ],\n",
       "       [ 5.26],\n",
       "       [ 3.35],\n",
       "       [16.26],\n",
       "       [ 4.25],\n",
       "       [ 4.5 ],\n",
       "       [ 8.  ],\n",
       "       [ 4.  ],\n",
       "       [ 7.96],\n",
       "       [ 4.  ],\n",
       "       [ 4.15],\n",
       "       [ 5.95],\n",
       "       [ 3.6 ],\n",
       "       [ 8.75],\n",
       "       [ 3.4 ],\n",
       "       [ 4.28],\n",
       "       [ 5.35],\n",
       "       [ 5.  ],\n",
       "       [ 7.65],\n",
       "       [ 6.94],\n",
       "       [ 7.5 ],\n",
       "       [ 3.6 ],\n",
       "       [ 1.75],\n",
       "       [ 3.45],\n",
       "       [ 9.63],\n",
       "       [ 8.49],\n",
       "       [ 8.99],\n",
       "       [ 3.65],\n",
       "       [ 3.5 ],\n",
       "       [ 3.43],\n",
       "       [ 5.5 ],\n",
       "       [ 6.93],\n",
       "       [ 3.51],\n",
       "       [ 3.75],\n",
       "       [ 4.17],\n",
       "       [ 9.57],\n",
       "       [14.67],\n",
       "       [12.5 ],\n",
       "       [ 5.5 ],\n",
       "       [ 5.15],\n",
       "       [ 8.  ],\n",
       "       [ 5.83],\n",
       "       [ 3.35],\n",
       "       [ 7.  ],\n",
       "       [10.  ],\n",
       "       [ 8.  ],\n",
       "       [ 6.88],\n",
       "       [ 5.55],\n",
       "       [ 7.5 ],\n",
       "       [ 8.93],\n",
       "       [ 9.  ],\n",
       "       [ 3.5 ],\n",
       "       [ 5.77],\n",
       "       [25.  ],\n",
       "       [ 6.85],\n",
       "       [ 6.5 ],\n",
       "       [ 3.75],\n",
       "       [ 3.5 ],\n",
       "       [ 4.5 ],\n",
       "       [ 2.01],\n",
       "       [ 4.17],\n",
       "       [13.  ],\n",
       "       [ 3.98],\n",
       "       [ 7.5 ],\n",
       "       [13.12],\n",
       "       [ 4.  ],\n",
       "       [ 3.95],\n",
       "       [13.  ],\n",
       "       [ 9.  ],\n",
       "       [ 4.55],\n",
       "       [ 9.5 ],\n",
       "       [ 4.5 ],\n",
       "       [ 8.75],\n",
       "       [10.  ],\n",
       "       [18.  ],\n",
       "       [24.98],\n",
       "       [12.05],\n",
       "       [22.  ],\n",
       "       [ 8.75],\n",
       "       [22.2 ],\n",
       "       [17.25],\n",
       "       [ 6.  ],\n",
       "       [ 8.06],\n",
       "       [ 9.24],\n",
       "       [12.  ],\n",
       "       [10.61],\n",
       "       [ 5.71],\n",
       "       [10.  ],\n",
       "       [17.5 ],\n",
       "       [15.  ],\n",
       "       [ 7.78],\n",
       "       [ 7.8 ],\n",
       "       [10.  ],\n",
       "       [24.98],\n",
       "       [10.28],\n",
       "       [15.  ],\n",
       "       [12.  ],\n",
       "       [10.58],\n",
       "       [ 5.85],\n",
       "       [11.22],\n",
       "       [ 8.56],\n",
       "       [13.89],\n",
       "       [ 5.71],\n",
       "       [15.79],\n",
       "       [ 7.5 ],\n",
       "       [11.25],\n",
       "       [ 6.15],\n",
       "       [13.45],\n",
       "       [ 6.25],\n",
       "       [ 6.5 ],\n",
       "       [12.  ],\n",
       "       [ 8.5 ],\n",
       "       [ 8.  ],\n",
       "       [ 5.75],\n",
       "       [15.73],\n",
       "       [ 9.86],\n",
       "       [13.51],\n",
       "       [ 5.4 ],\n",
       "       [ 6.25],\n",
       "       [ 5.5 ],\n",
       "       [ 5.  ],\n",
       "       [ 6.25],\n",
       "       [ 5.75],\n",
       "       [20.5 ],\n",
       "       [ 5.  ],\n",
       "       [ 7.  ],\n",
       "       [18.  ],\n",
       "       [12.  ],\n",
       "       [20.4 ],\n",
       "       [22.2 ],\n",
       "       [16.42],\n",
       "       [ 8.63],\n",
       "       [19.38],\n",
       "       [14.  ],\n",
       "       [10.  ],\n",
       "       [15.95],\n",
       "       [20.  ],\n",
       "       [10.  ],\n",
       "       [24.98],\n",
       "       [11.25],\n",
       "       [22.83],\n",
       "       [10.2 ],\n",
       "       [10.  ],\n",
       "       [14.  ],\n",
       "       [12.5 ],\n",
       "       [ 5.79],\n",
       "       [24.98],\n",
       "       [ 4.35],\n",
       "       [11.25],\n",
       "       [ 6.67],\n",
       "       [ 8.  ],\n",
       "       [18.16],\n",
       "       [12.  ],\n",
       "       [ 8.89],\n",
       "       [ 9.5 ],\n",
       "       [13.65],\n",
       "       [12.  ],\n",
       "       [15.  ],\n",
       "       [12.67],\n",
       "       [ 7.38],\n",
       "       [15.56],\n",
       "       [ 7.45],\n",
       "       [ 6.25],\n",
       "       [ 6.25],\n",
       "       [ 9.37],\n",
       "       [22.5 ],\n",
       "       [ 7.5 ],\n",
       "       [ 7.  ],\n",
       "       [ 5.75],\n",
       "       [ 7.67],\n",
       "       [12.5 ],\n",
       "       [16.  ],\n",
       "       [11.79],\n",
       "       [11.36],\n",
       "       [ 6.1 ],\n",
       "       [23.25],\n",
       "       [19.88],\n",
       "       [15.38]])"
      ]
     },
     "execution_count": 120,
     "metadata": {},
     "output_type": "execute_result"
    }
   ],
   "source": [
    "label"
   ]
  },
  {
   "cell_type": "markdown",
   "metadata": {},
   "source": [
    "###### Specifying a model\n",
    "\n",
    "Now we'll get to work with our first model in Keras, and will immediately be able to run more complex neural network models on larger datasets.\n",
    "\n",
    "To start, we'll take the skeleton of a neural network and add a hidden layer and an output layer. WE'll then fit that model and see Keras do the optimization so our model continually gets better.\n",
    "\n",
    "As a start, we'll predict workers wages based on characteristics like their industry, education and level of experience. We can find the dataset in a pandas dataframe called df. For convenience, everything in df except for the target has been converted to a NumPy matrix called predictors. The target, wage_per_hour, is available as a NumPy matrix called target.\n",
    "\n",
    "I have imported the Sequential model constructor, the Dense layer constructor, and pandas.\n",
    "\n"
   ]
  },
  {
   "cell_type": "code",
   "execution_count": 123,
   "metadata": {},
   "outputs": [
    {
     "name": "stderr",
     "output_type": "stream",
     "text": [
      "Using TensorFlow backend.\n"
     ]
    }
   ],
   "source": [
    "# Import necessary modules\n",
    "import keras\n",
    "from keras.layers import Dense\n",
    "from keras.models import Sequential\n",
    "\n",
    "# Saving the number of columns in predictors: n_cols\n",
    "n_cols = predictors.shape[1]\n",
    "\n",
    "# Setting up the model: model\n",
    "model = Sequential()\n",
    "\n",
    "# Adding the first layer\n",
    "model.add(Dense(50, activation='relu', input_shape=(n_cols,)))\n",
    "\n",
    "# Adding the second layer\n",
    "model.add(Dense(32, activation='relu'))\n",
    "\n",
    "# Adding the output layer\n",
    "model.add(Dense(1))\n"
   ]
  },
  {
   "cell_type": "markdown",
   "metadata": {},
   "source": [
    "Now that we've specified the model, the next step is to compile it."
   ]
  },
  {
   "cell_type": "markdown",
   "metadata": {},
   "source": [
    "###### Compiling the model\n",
    "\n",
    "We're now going to compile the model we specified earlier. To compile the model, we need to specify the optimizer and loss function to use. Adam optimizer is an excellent choice. \n"
   ]
  },
  {
   "cell_type": "code",
   "execution_count": 124,
   "metadata": {},
   "outputs": [
    {
     "name": "stdout",
     "output_type": "stream",
     "text": [
      "Loss function: mean_squared_error\n"
     ]
    }
   ],
   "source": [
    "# Importing necessary modules\n",
    "import keras\n",
    "from keras.layers import Dense\n",
    "from keras.models import Sequential\n",
    "\n",
    "# Specifying the model\n",
    "n_cols = predictors.shape[1]\n",
    "model = Sequential()\n",
    "model.add(Dense(50, activation='relu', input_shape = (n_cols,)))\n",
    "model.add(Dense(32, activation='relu'))\n",
    "model.add(Dense(1))\n",
    "\n",
    "# Compiling the model\n",
    "model.compile(optimizer = 'adam', loss ='mean_squared_error')\n",
    "\n",
    "# Verifying that model contains information from compiling\n",
    "print(\"Loss function: \" + model.loss)"
   ]
  },
  {
   "cell_type": "markdown",
   "metadata": {},
   "source": [
    "All that's left now is to fit the model!"
   ]
  },
  {
   "cell_type": "code",
   "execution_count": 128,
   "metadata": {},
   "outputs": [],
   "source": [
    "target = df[['wage_per_hour']].values"
   ]
  },
  {
   "cell_type": "code",
   "execution_count": 129,
   "metadata": {},
   "outputs": [
    {
     "name": "stdout",
     "output_type": "stream",
     "text": [
      "Epoch 1/1\n",
      "534/534 [==============================] - 1s 1ms/step - loss: 37.0813\n"
     ]
    },
    {
     "data": {
      "text/plain": [
       "<keras.callbacks.callbacks.History at 0x1a3ee08510>"
      ]
     },
     "execution_count": 129,
     "metadata": {},
     "output_type": "execute_result"
    }
   ],
   "source": [
    "# Importing necessary modules\n",
    "import keras\n",
    "from keras.layers import Dense\n",
    "from keras.models import Sequential\n",
    "\n",
    "# Specifying the model\n",
    "n_cols = predictors.shape[1]\n",
    "model = Sequential()\n",
    "model.add(Dense(50, activation='relu', input_shape = (n_cols,)))\n",
    "model.add(Dense(32, activation='relu'))\n",
    "model.add(Dense(1))\n",
    "\n",
    "# Compiling the model\n",
    "model.compile(optimizer='adam', loss='mean_squared_error')\n",
    "\n",
    "# Fitting the model\n",
    "model.fit(predictors,target)\n"
   ]
  },
  {
   "cell_type": "markdown",
   "metadata": {},
   "source": [
    "###### Understanding the classification data\n",
    "\n",
    "Now I will start modeling with a new dataset for a classification problem. This data includes information about passengers on the Titanic. We will use predictors such as age, fare and where each passenger embarked from to predict who will survive. \n",
    "\n",
    "It's smart to review the maximum and minimum values of each variable to ensure the data isn't misformatted or corrupted. What was the maximum age of passengers on the Titanic? Using the .describe() method to answer this question.\n"
   ]
  },
  {
   "cell_type": "code",
   "execution_count": 130,
   "metadata": {},
   "outputs": [],
   "source": [
    "df = pd.read_csv('titanic_all_numeric.csv')"
   ]
  },
  {
   "cell_type": "code",
   "execution_count": 131,
   "metadata": {},
   "outputs": [
    {
     "data": {
      "text/html": [
       "<div>\n",
       "<style scoped>\n",
       "    .dataframe tbody tr th:only-of-type {\n",
       "        vertical-align: middle;\n",
       "    }\n",
       "\n",
       "    .dataframe tbody tr th {\n",
       "        vertical-align: top;\n",
       "    }\n",
       "\n",
       "    .dataframe thead th {\n",
       "        text-align: right;\n",
       "    }\n",
       "</style>\n",
       "<table border=\"1\" class=\"dataframe\">\n",
       "  <thead>\n",
       "    <tr style=\"text-align: right;\">\n",
       "      <th></th>\n",
       "      <th>survived</th>\n",
       "      <th>pclass</th>\n",
       "      <th>age</th>\n",
       "      <th>sibsp</th>\n",
       "      <th>parch</th>\n",
       "      <th>fare</th>\n",
       "      <th>male</th>\n",
       "      <th>embarked_from_cherbourg</th>\n",
       "      <th>embarked_from_queenstown</th>\n",
       "      <th>embarked_from_southampton</th>\n",
       "    </tr>\n",
       "  </thead>\n",
       "  <tbody>\n",
       "    <tr>\n",
       "      <td>count</td>\n",
       "      <td>891.000000</td>\n",
       "      <td>891.000000</td>\n",
       "      <td>891.000000</td>\n",
       "      <td>891.000000</td>\n",
       "      <td>891.000000</td>\n",
       "      <td>891.000000</td>\n",
       "      <td>891.000000</td>\n",
       "      <td>891.000000</td>\n",
       "      <td>891.000000</td>\n",
       "      <td>891.000000</td>\n",
       "    </tr>\n",
       "    <tr>\n",
       "      <td>mean</td>\n",
       "      <td>0.383838</td>\n",
       "      <td>2.308642</td>\n",
       "      <td>29.699118</td>\n",
       "      <td>0.523008</td>\n",
       "      <td>0.381594</td>\n",
       "      <td>32.204208</td>\n",
       "      <td>0.647587</td>\n",
       "      <td>0.188552</td>\n",
       "      <td>0.086420</td>\n",
       "      <td>0.722783</td>\n",
       "    </tr>\n",
       "    <tr>\n",
       "      <td>std</td>\n",
       "      <td>0.486592</td>\n",
       "      <td>0.836071</td>\n",
       "      <td>13.002015</td>\n",
       "      <td>1.102743</td>\n",
       "      <td>0.806057</td>\n",
       "      <td>49.693429</td>\n",
       "      <td>0.477990</td>\n",
       "      <td>0.391372</td>\n",
       "      <td>0.281141</td>\n",
       "      <td>0.447876</td>\n",
       "    </tr>\n",
       "    <tr>\n",
       "      <td>min</td>\n",
       "      <td>0.000000</td>\n",
       "      <td>1.000000</td>\n",
       "      <td>0.420000</td>\n",
       "      <td>0.000000</td>\n",
       "      <td>0.000000</td>\n",
       "      <td>0.000000</td>\n",
       "      <td>0.000000</td>\n",
       "      <td>0.000000</td>\n",
       "      <td>0.000000</td>\n",
       "      <td>0.000000</td>\n",
       "    </tr>\n",
       "    <tr>\n",
       "      <td>25%</td>\n",
       "      <td>0.000000</td>\n",
       "      <td>2.000000</td>\n",
       "      <td>22.000000</td>\n",
       "      <td>0.000000</td>\n",
       "      <td>0.000000</td>\n",
       "      <td>7.910400</td>\n",
       "      <td>0.000000</td>\n",
       "      <td>0.000000</td>\n",
       "      <td>0.000000</td>\n",
       "      <td>0.000000</td>\n",
       "    </tr>\n",
       "    <tr>\n",
       "      <td>50%</td>\n",
       "      <td>0.000000</td>\n",
       "      <td>3.000000</td>\n",
       "      <td>29.699118</td>\n",
       "      <td>0.000000</td>\n",
       "      <td>0.000000</td>\n",
       "      <td>14.454200</td>\n",
       "      <td>1.000000</td>\n",
       "      <td>0.000000</td>\n",
       "      <td>0.000000</td>\n",
       "      <td>1.000000</td>\n",
       "    </tr>\n",
       "    <tr>\n",
       "      <td>75%</td>\n",
       "      <td>1.000000</td>\n",
       "      <td>3.000000</td>\n",
       "      <td>35.000000</td>\n",
       "      <td>1.000000</td>\n",
       "      <td>0.000000</td>\n",
       "      <td>31.000000</td>\n",
       "      <td>1.000000</td>\n",
       "      <td>0.000000</td>\n",
       "      <td>0.000000</td>\n",
       "      <td>1.000000</td>\n",
       "    </tr>\n",
       "    <tr>\n",
       "      <td>max</td>\n",
       "      <td>1.000000</td>\n",
       "      <td>3.000000</td>\n",
       "      <td>80.000000</td>\n",
       "      <td>8.000000</td>\n",
       "      <td>6.000000</td>\n",
       "      <td>512.329200</td>\n",
       "      <td>1.000000</td>\n",
       "      <td>1.000000</td>\n",
       "      <td>1.000000</td>\n",
       "      <td>1.000000</td>\n",
       "    </tr>\n",
       "  </tbody>\n",
       "</table>\n",
       "</div>"
      ],
      "text/plain": [
       "         survived      pclass         age       sibsp       parch        fare  \\\n",
       "count  891.000000  891.000000  891.000000  891.000000  891.000000  891.000000   \n",
       "mean     0.383838    2.308642   29.699118    0.523008    0.381594   32.204208   \n",
       "std      0.486592    0.836071   13.002015    1.102743    0.806057   49.693429   \n",
       "min      0.000000    1.000000    0.420000    0.000000    0.000000    0.000000   \n",
       "25%      0.000000    2.000000   22.000000    0.000000    0.000000    7.910400   \n",
       "50%      0.000000    3.000000   29.699118    0.000000    0.000000   14.454200   \n",
       "75%      1.000000    3.000000   35.000000    1.000000    0.000000   31.000000   \n",
       "max      1.000000    3.000000   80.000000    8.000000    6.000000  512.329200   \n",
       "\n",
       "             male  embarked_from_cherbourg  embarked_from_queenstown  \\\n",
       "count  891.000000               891.000000                891.000000   \n",
       "mean     0.647587                 0.188552                  0.086420   \n",
       "std      0.477990                 0.391372                  0.281141   \n",
       "min      0.000000                 0.000000                  0.000000   \n",
       "25%      0.000000                 0.000000                  0.000000   \n",
       "50%      1.000000                 0.000000                  0.000000   \n",
       "75%      1.000000                 0.000000                  0.000000   \n",
       "max      1.000000                 1.000000                  1.000000   \n",
       "\n",
       "       embarked_from_southampton  \n",
       "count                 891.000000  \n",
       "mean                    0.722783  \n",
       "std                     0.447876  \n",
       "min                     0.000000  \n",
       "25%                     0.000000  \n",
       "50%                     1.000000  \n",
       "75%                     1.000000  \n",
       "max                     1.000000  "
      ]
     },
     "execution_count": 131,
     "metadata": {},
     "output_type": "execute_result"
    }
   ],
   "source": [
    "df.describe()"
   ]
  },
  {
   "cell_type": "markdown",
   "metadata": {},
   "source": [
    "The maximum age in the data is 80"
   ]
  },
  {
   "cell_type": "markdown",
   "metadata": {},
   "source": [
    "###### Last steps in classification models\n",
    "\n",
    "We'll now create a classification model using the titanic dataset, which has been pre-loaded into a DataFrame called df. We'll take information about the passengers and predict which ones survived.\n",
    "\n",
    "The predictive variables are stored in a NumPy array predictors. The target to predict is in df.survived, though we'll have to manipulate it for keras. The number of predictive features is stored in n_cols.\n",
    "\n",
    "Here, I'll use the 'sgd' optimizer, which stands for Stochastic Gradient Descent. "
   ]
  },
  {
   "cell_type": "code",
   "execution_count": 150,
   "metadata": {},
   "outputs": [
    {
     "name": "stderr",
     "output_type": "stream",
     "text": [
      "/opt/anaconda3/lib/python3.7/site-packages/ipykernel_launcher.py:2: FutureWarning: Method .as_matrix will be removed in a future version. Use .values instead.\n",
      "  \n"
     ]
    },
    {
     "data": {
      "text/plain": [
       "array([[3, 22.0, 1, ..., 0, 0, 1],\n",
       "       [1, 38.0, 1, ..., 1, 0, 0],\n",
       "       [3, 26.0, 0, ..., 0, 0, 1],\n",
       "       ...,\n",
       "       [3, 29.69911764705882, 1, ..., 0, 0, 1],\n",
       "       [1, 26.0, 0, ..., 1, 0, 0],\n",
       "       [3, 32.0, 0, ..., 0, 1, 0]], dtype=object)"
      ]
     },
     "execution_count": 150,
     "metadata": {},
     "output_type": "execute_result"
    }
   ],
   "source": [
    "# Creating predictors\n",
    "predictors = df.drop(['survived'], axis=1).as_matrix()\n",
    "predictors"
   ]
  },
  {
   "cell_type": "code",
   "execution_count": 147,
   "metadata": {},
   "outputs": [],
   "source": [
    "# Saving the number of columns in predictors: n_cols\n",
    "n_cols = predictors.shape[1]"
   ]
  },
  {
   "cell_type": "code",
   "execution_count": 148,
   "metadata": {},
   "outputs": [
    {
     "data": {
      "text/plain": [
       "10"
      ]
     },
     "execution_count": 148,
     "metadata": {},
     "output_type": "execute_result"
    }
   ],
   "source": [
    "n_cols"
   ]
  },
  {
   "cell_type": "code",
   "execution_count": 149,
   "metadata": {},
   "outputs": [
    {
     "name": "stdout",
     "output_type": "stream",
     "text": [
      "Epoch 1/1\n",
      "891/891 [==============================] - 0s 114us/step - loss: 2.0257 - accuracy: 0.5971\n"
     ]
    },
    {
     "data": {
      "text/plain": [
       "<keras.callbacks.callbacks.History at 0x1a3f990a10>"
      ]
     },
     "execution_count": 149,
     "metadata": {},
     "output_type": "execute_result"
    }
   ],
   "source": [
    "# Importing necessary modules\n",
    "import keras\n",
    "from keras.layers import Dense\n",
    "from keras.models import Sequential\n",
    "from keras.utils.np_utils import to_categorical\n",
    "\n",
    "# Converting the target to categorical: target\n",
    "target = to_categorical(df.survived)\n",
    "\n",
    "# Setting up the model\n",
    "model = Sequential()\n",
    "\n",
    "# Adding the first layer\n",
    "model.add(Dense(32, activation='relu', input_shape = (n_cols,)))\n",
    "\n",
    "# Adding the output layer\n",
    "model.add(Dense(2, activation = 'softmax'))\n",
    "\n",
    "# Compiling the model\n",
    "model.compile(optimizer='sgd', loss='categorical_crossentropy',metrics = ['accuracy'])\n",
    "\n",
    "# Fitting the model\n",
    "model.fit(predictors,target)\n"
   ]
  },
  {
   "cell_type": "markdown",
   "metadata": {},
   "source": [
    "###### Making predictions\n",
    "\n",
    "The trained network from above coding is now stored as model. New data to make predictions is stored in a NumPy array as pred_data. Using model to make predictions on our new data.\n",
    "\n",
    "Below, our predictions will be probabilities, which is the most common way for data scientists to communicate their predictions to colleagues."
   ]
  },
  {
   "cell_type": "code",
   "execution_count": 156,
   "metadata": {},
   "outputs": [],
   "source": [
    "# pred_data = np.array([2, 34.0, 0, 0, 13.0, 1, False, 0, 0, 1])"
   ]
  },
  {
   "cell_type": "code",
   "execution_count": 158,
   "metadata": {},
   "outputs": [],
   "source": [
    "pred_data = np.array([[2, 34.0, 0, 0, 13.0, 1, False, 0, 0, 1],\n",
    "       [2, 31.0, 1, 1, 26.25, 0, False, 0, 0, 1],\n",
    "       [1, 11.0, 1, 2, 120.0, 1, False, 0, 0, 1],\n",
    "       [3, 0.42, 0, 1, 8.5167, 1, False, 1, 0, 0],\n",
    "       [3, 27.0, 0, 0, 6.975, 1, False, 0, 0, 1],\n",
    "       [3, 31.0, 0, 0, 7.775, 1, False, 0, 0, 1],\n",
    "       [1, 39.0, 0, 0, 0.0, 1, False, 0, 0, 1],\n",
    "       [3, 18.0, 0, 0, 7.775, 0, False, 0, 0, 1],\n",
    "       [2, 39.0, 0, 0, 13.0, 1, False, 0, 0, 1],\n",
    "       [1, 33.0, 1, 0, 53.1, 0, False, 0, 0, 1],\n",
    "       [3, 26.0, 0, 0, 7.8875, 1, False, 0, 0, 1],\n",
    "       [3, 39.0, 0, 0, 24.15, 1, False, 0, 0, 1],\n",
    "       [2, 35.0, 0, 0, 10.5, 1, False, 0, 0, 1],\n",
    "       [3, 6.0, 4, 2, 31.275, 0, False, 0, 0, 1],\n",
    "       [3, 30.5, 0, 0, 8.05, 1, False, 0, 0, 1],\n",
    "       [1, 29.69911764705882, 0, 0, 0.0, 1, True, 0, 0, 1],\n",
    "       [3, 23.0, 0, 0, 7.925, 0, False, 0, 0, 1],\n",
    "       [2, 31.0, 1, 1, 37.0042, 1, False, 1, 0, 0],\n",
    "       [3, 43.0, 0, 0, 6.45, 1, False, 0, 0, 1],\n",
    "       [3, 10.0, 3, 2, 27.9, 1, False, 0, 0, 1],\n",
    "       [1, 52.0, 1, 1, 93.5, 0, False, 0, 0, 1],\n",
    "       [3, 27.0, 0, 0, 8.6625, 1, False, 0, 0, 1],\n",
    "       [1, 38.0, 0, 0, 0.0, 1, False, 0, 0, 1],\n",
    "       [3, 27.0, 0, 1, 12.475, 0, False, 0, 0, 1],\n",
    "       [3, 2.0, 4, 1, 39.6875, 1, False, 0, 0, 1],\n",
    "       [3, 29.69911764705882, 0, 0, 6.95, 1, True, 0, 1, 0],\n",
    "       [3, 29.69911764705882, 0, 0, 56.4958, 1, True, 0, 0, 1],\n",
    "       [2, 1.0, 0, 2, 37.0042, 1, False, 1, 0, 0],\n",
    "       [3, 29.69911764705882, 0, 0, 7.75, 1, True, 0, 1, 0],\n",
    "       [1, 62.0, 0, 0, 80.0, 0, False, 0, 0, 0],\n",
    "       [3, 15.0, 1, 0, 14.4542, 0, False, 1, 0, 0],\n",
    "       [2, 0.83, 1, 1, 18.75, 1, False, 0, 0, 1],\n",
    "       [3, 29.69911764705882, 0, 0, 7.2292, 1, True, 1, 0, 0],\n",
    "       [3, 23.0, 0, 0, 7.8542, 1, False, 0, 0, 1],\n",
    "       [3, 18.0, 0, 0, 8.3, 1, False, 0, 0, 1],\n",
    "       [1, 39.0, 1, 1, 83.1583, 0, False, 1, 0, 0],\n",
    "       [3, 21.0, 0, 0, 8.6625, 1, False, 0, 0, 1],\n",
    "       [3, 29.69911764705882, 0, 0, 8.05, 1, True, 0, 0, 1],\n",
    "       [3, 32.0, 0, 0, 56.4958, 1, False, 0, 0, 1],\n",
    "       [1, 29.69911764705882, 0, 0, 29.7, 1, True, 1, 0, 0],\n",
    "       [3, 20.0, 0, 0, 7.925, 1, False, 0, 0, 1],\n",
    "       [2, 16.0, 0, 0, 10.5, 1, False, 0, 0, 1],\n",
    "       [1, 30.0, 0, 0, 31.0, 0, False, 1, 0, 0],\n",
    "       [3, 34.5, 0, 0, 6.4375, 1, False, 1, 0, 0],\n",
    "       [3, 17.0, 0, 0, 8.6625, 1, False, 0, 0, 1],\n",
    "       [3, 42.0, 0, 0, 7.55, 1, False, 0, 0, 1],\n",
    "       [3, 29.69911764705882, 8, 2, 69.55, 1, True, 0, 0, 1],\n",
    "       [3, 35.0, 0, 0, 7.8958, 1, False, 1, 0, 0],\n",
    "       [2, 28.0, 0, 1, 33.0, 1, False, 0, 0, 1],\n",
    "       [1, 29.69911764705882, 1, 0, 89.1042, 0, True, 1, 0, 0],\n",
    "       [3, 4.0, 4, 2, 31.275, 1, False, 0, 0, 1],\n",
    "       [3, 74.0, 0, 0, 7.775, 1, False, 0, 0, 1],\n",
    "       [3, 9.0, 1, 1, 15.2458, 0, False, 1, 0, 0],\n",
    "       [1, 16.0, 0, 1, 39.4, 0, False, 0, 0, 1],\n",
    "       [2, 44.0, 1, 0, 26.0, 0, False, 0, 0, 1],\n",
    "       [3, 18.0, 0, 1, 9.35, 0, False, 0, 0, 1],\n",
    "       [1, 45.0, 1, 1, 164.8667, 0, False, 0, 0, 1],\n",
    "       [1, 51.0, 0, 0, 26.55, 1, False, 0, 0, 1],\n",
    "       [3, 24.0, 0, 3, 19.2583, 0, False, 1, 0, 0],\n",
    "       [3, 29.69911764705882, 0, 0, 7.2292, 1, True, 1, 0, 0],\n",
    "       [3, 41.0, 2, 0, 14.1083, 1, False, 0, 0, 1],\n",
    "       [2, 21.0, 1, 0, 11.5, 1, False, 0, 0, 1],\n",
    "       [1, 48.0, 0, 0, 25.9292, 0, False, 0, 0, 1],\n",
    "       [3, 29.69911764705882, 8, 2, 69.55, 0, True, 0, 0, 1],\n",
    "       [2, 24.0, 0, 0, 13.0, 1, False, 0, 0, 1],\n",
    "       [2, 42.0, 0, 0, 13.0, 0, False, 0, 0, 1],\n",
    "       [2, 27.0, 1, 0, 13.8583, 0, False, 1, 0, 0],\n",
    "       [1, 31.0, 0, 0, 50.4958, 1, False, 0, 0, 1],\n",
    "       [3, 29.69911764705882, 0, 0, 9.5, 1, True, 0, 0, 1],\n",
    "       [3, 4.0, 1, 1, 11.1333, 1, False, 0, 0, 1],\n",
    "       [3, 26.0, 0, 0, 7.8958, 1, False, 0, 0, 1],\n",
    "       [1, 47.0, 1, 1, 52.5542, 0, False, 0, 0, 1],\n",
    "       [1, 33.0, 0, 0, 5.0, 1, False, 0, 0, 1],\n",
    "       [3, 47.0, 0, 0, 9.0, 1, False, 0, 0, 1],\n",
    "       [2, 28.0, 1, 0, 24.0, 0, False, 1, 0, 0],\n",
    "       [3, 15.0, 0, 0, 7.225, 0, False, 1, 0, 0],\n",
    "       [3, 20.0, 0, 0, 9.8458, 1, False, 0, 0, 1],\n",
    "       [3, 19.0, 0, 0, 7.8958, 1, False, 0, 0, 1],\n",
    "       [3, 29.69911764705882, 0, 0, 7.8958, 1, True, 0, 0, 1],\n",
    "       [1, 56.0, 0, 1, 83.1583, 0, False, 1, 0, 0],\n",
    "       [2, 25.0, 0, 1, 26.0, 0, False, 0, 0, 1],\n",
    "       [3, 33.0, 0, 0, 7.8958, 1, False, 0, 0, 1],\n",
    "       [3, 22.0, 0, 0, 10.5167, 0, False, 0, 0, 1],\n",
    "       [2, 28.0, 0, 0, 10.5, 1, False, 0, 0, 1],\n",
    "       [3, 25.0, 0, 0, 7.05, 1, False, 0, 0, 1],\n",
    "       [3, 39.0, 0, 5, 29.125, 0, False, 0, 1, 0],\n",
    "       [2, 27.0, 0, 0, 13.0, 1, False, 0, 0, 1],\n",
    "       [1, 19.0, 0, 0, 30.0, 0, False, 0, 0, 1],\n",
    "       [3, 29.69911764705882, 1, 2, 23.45, 0, True, 0, 0, 1],\n",
    "       [1, 26.0, 0, 0, 30.0, 1, False, 1, 0, 0],\n",
    "       [3, 32.0, 0, 0, 7.75, 1, False, 0, 1, 0]], dtype=object)"
   ]
  },
  {
   "cell_type": "code",
   "execution_count": 159,
   "metadata": {},
   "outputs": [
    {
     "name": "stdout",
     "output_type": "stream",
     "text": [
      "Epoch 1/1\n",
      "891/891 [==============================] - 0s 169us/step - loss: 1.4290 - accuracy: 0.5903\n",
      "[6.39392287e-02 2.23172620e-01 8.42987120e-01 5.35712361e-01\n",
      " 1.03326783e-01 7.06379414e-02 6.64174743e-03 3.02150607e-01\n",
      " 3.75785194e-02 6.08747363e-01 1.17806308e-01 1.64448261e-01\n",
      " 4.83749658e-02 6.48210466e-01 7.79957250e-02 2.10431125e-02\n",
      " 1.83567747e-01 3.49151492e-01 1.12759890e-02 6.18847132e-01\n",
      " 7.67329991e-01 1.10783637e-01 7.56790256e-03 1.75525665e-01\n",
      " 5.39849579e-01 6.44685477e-02 8.01495075e-01 6.09458387e-01\n",
      " 6.65938780e-02 4.07471001e-01 4.03412104e-01 5.83708882e-01\n",
      " 7.98685774e-02 1.54588640e-01 2.93398857e-01 8.16170156e-01\n",
      " 2.09423855e-01 7.97889829e-02 7.49511957e-01 2.97968626e-01\n",
      " 2.10323170e-01 3.52175683e-01 2.95193255e-01 4.05917577e-02\n",
      " 3.39983016e-01 1.56206312e-02 6.43260479e-01 4.72006761e-02\n",
      " 4.14882064e-01 8.81036818e-01 5.95440745e-01 2.11744176e-04\n",
      " 5.24275959e-01 7.35083878e-01 1.18814692e-01 3.12741071e-01\n",
      " 9.79603827e-01 5.73687404e-02 2.24311620e-01 7.98685774e-02\n",
      " 2.14201063e-02 2.69443691e-01 7.74839222e-02 6.58904731e-01\n",
      " 2.40920603e-01 3.21170390e-02 1.89294621e-01 6.37013793e-01\n",
      " 8.45319182e-02 6.14522099e-01 1.17843755e-01 2.55218476e-01\n",
      " 2.37314533e-02 1.00980913e-02 2.68409640e-01 3.80470961e-01\n",
      " 2.94588715e-01 2.40178883e-01 7.92991295e-02 5.25739551e-01\n",
      " 3.64567429e-01 5.55353202e-02 2.82995880e-01 1.00091599e-01\n",
      " 1.24914765e-01 9.88061279e-02 1.78967521e-01 5.79012394e-01\n",
      " 2.16084540e-01 3.70570064e-01 5.34024835e-02]\n"
     ]
    }
   ],
   "source": [
    "# Specifying, compiling, and fitting the model\n",
    "model = Sequential()\n",
    "model.add(Dense(32, activation='relu', input_shape = (n_cols,)))\n",
    "model.add(Dense(2, activation='softmax'))\n",
    "model.compile(optimizer='sgd', \n",
    "              loss='categorical_crossentropy', \n",
    "              metrics=['accuracy'])\n",
    "model.fit(predictors, target)\n",
    "\n",
    "# Calculating predictions: predictions\n",
    "predictions = model.predict(pred_data)\n",
    "\n",
    "# Calculating predicted probability of survival: predicted_prob_true\n",
    "predicted_prob_true = predictions[:,1]\n",
    "\n",
    "# printing predicted_prob_true\n",
    "print(predicted_prob_true)"
   ]
  },
  {
   "cell_type": "markdown",
   "metadata": {},
   "source": [
    "We're now ready to begin learning how to fine-tune your models."
   ]
  },
  {
   "cell_type": "markdown",
   "metadata": {},
   "source": [
    "###### Diagnosing optimization problems\n",
    "\n",
    "Which of the following could prevent a model from showing an improved loss in its first few epochs?\n",
    "\n",
    "• Learning rate too low.\n",
    "\n",
    "• Learning rate too high.\n",
    "\n",
    "• Poor choice of activation function.\n",
    "\n",
    "• All of the above.\n",
    "\n",
    "All the options listed could prevent a model from showing an improved loss in its first few epochs.'\n"
   ]
  },
  {
   "cell_type": "markdown",
   "metadata": {},
   "source": [
    "###### Changing optimization parameters\n",
    "\n",
    "It's time to get our hands dirty with optimization. I'll now try optimizing a model at a very low learning rate, a very high learning rate, and a \"just right\" learning rate. We'll want to look at the results after running this, remembering that a low value for the loss function is good.\n",
    "\n",
    "For these exercises, I've pre-loaded the predictors and target values from your previous classification models (predicting who would survive on the Titanic). We'll want the optimization to start from scratch every time we change the learning rate, to give a fair comparison of how each learning rate did in our results. So we have created a function get_new_model() that creates an unoptimized model to optimize.\n"
   ]
  },
  {
   "cell_type": "code",
   "execution_count": 168,
   "metadata": {},
   "outputs": [],
   "source": [
    "def get_new_model(input_shape = n_cols,):    \n",
    "    model = Sequential()    \n",
    "    model.add(Dense(100, activation='relu', input_shape = (n_cols,)))\n",
    "    model.add(Dense(100, activation='relu'))    \n",
    "    model.add(Dense(2, activation='softmax'))\n",
    "    return(model)\n"
   ]
  },
  {
   "cell_type": "code",
   "execution_count": 170,
   "metadata": {},
   "outputs": [
    {
     "name": "stdout",
     "output_type": "stream",
     "text": [
      "\n",
      "\n",
      "Testing model with learning rate: 0.000001\n",
      "\n"
     ]
    },
    {
     "name": "stderr",
     "output_type": "stream",
     "text": [
      "/opt/anaconda3/lib/python3.7/site-packages/ipykernel_launcher.py:21: UserWarning: The `nb_epoch` argument in `fit` has been renamed `epochs`.\n"
     ]
    },
    {
     "name": "stdout",
     "output_type": "stream",
     "text": [
      "Epoch 1/10\n",
      "891/891 [==============================] - 0s 156us/step - loss: 0.8374\n",
      "Epoch 2/10\n",
      "891/891 [==============================] - 0s 55us/step - loss: 0.8356\n",
      "Epoch 3/10\n",
      "891/891 [==============================] - 0s 53us/step - loss: 0.8339\n",
      "Epoch 4/10\n",
      "891/891 [==============================] - 0s 67us/step - loss: 0.8321\n",
      "Epoch 5/10\n",
      "891/891 [==============================] - 0s 61us/step - loss: 0.8304\n",
      "Epoch 6/10\n",
      "891/891 [==============================] - 0s 58us/step - loss: 0.8287\n",
      "Epoch 7/10\n",
      "891/891 [==============================] - 0s 57us/step - loss: 0.8270\n",
      "Epoch 8/10\n",
      "891/891 [==============================] - 0s 160us/step - loss: 0.8253\n",
      "Epoch 9/10\n",
      "891/891 [==============================] - 0s 129us/step - loss: 0.8236\n",
      "Epoch 10/10\n",
      "891/891 [==============================] - 0s 90us/step - loss: 0.8220\n",
      "\n",
      "\n",
      "Testing model with learning rate: 0.010000\n",
      "\n"
     ]
    },
    {
     "name": "stderr",
     "output_type": "stream",
     "text": [
      "/opt/anaconda3/lib/python3.7/site-packages/ipykernel_launcher.py:21: UserWarning: The `nb_epoch` argument in `fit` has been renamed `epochs`.\n"
     ]
    },
    {
     "name": "stdout",
     "output_type": "stream",
     "text": [
      "Epoch 1/10\n",
      "891/891 [==============================] - 0s 125us/step - loss: 1.8525\n",
      "Epoch 2/10\n",
      "891/891 [==============================] - 0s 55us/step - loss: 0.7053\n",
      "Epoch 3/10\n",
      "891/891 [==============================] - 0s 60us/step - loss: 0.6478\n",
      "Epoch 4/10\n",
      "891/891 [==============================] - 0s 55us/step - loss: 0.6253\n",
      "Epoch 5/10\n",
      "891/891 [==============================] - 0s 77us/step - loss: 0.6360\n",
      "Epoch 6/10\n",
      "891/891 [==============================] - 0s 90us/step - loss: 0.6236\n",
      "Epoch 7/10\n",
      "891/891 [==============================] - 0s 104us/step - loss: 0.6178\n",
      "Epoch 8/10\n",
      "891/891 [==============================] - 0s 84us/step - loss: 0.6163\n",
      "Epoch 9/10\n",
      "891/891 [==============================] - 0s 86us/step - loss: 0.5962\n",
      "Epoch 10/10\n",
      "891/891 [==============================] - 0s 73us/step - loss: 0.5978\n",
      "\n",
      "\n",
      "Testing model with learning rate: 1.000000\n",
      "\n"
     ]
    },
    {
     "name": "stderr",
     "output_type": "stream",
     "text": [
      "/opt/anaconda3/lib/python3.7/site-packages/ipykernel_launcher.py:21: UserWarning: The `nb_epoch` argument in `fit` has been renamed `epochs`.\n"
     ]
    },
    {
     "name": "stdout",
     "output_type": "stream",
     "text": [
      "Epoch 1/10\n",
      "891/891 [==============================] - 0s 169us/step - loss: 821932466407.5234\n",
      "Epoch 2/10\n",
      "891/891 [==============================] - 0s 132us/step - loss: 0.6711\n",
      "Epoch 3/10\n",
      "891/891 [==============================] - 0s 110us/step - loss: 0.6714\n",
      "Epoch 4/10\n",
      "891/891 [==============================] - 0s 125us/step - loss: 0.6690\n",
      "Epoch 5/10\n",
      "891/891 [==============================] - 0s 86us/step - loss: 0.6702\n",
      "Epoch 6/10\n",
      "891/891 [==============================] - 0s 109us/step - loss: 0.6686\n",
      "Epoch 7/10\n",
      "891/891 [==============================] - 0s 132us/step - loss: 0.6676\n",
      "Epoch 8/10\n",
      "891/891 [==============================] - 0s 113us/step - loss: 0.6715\n",
      "Epoch 9/10\n",
      "891/891 [==============================] - 0s 173us/step - loss: 0.6727\n",
      "Epoch 10/10\n",
      "891/891 [==============================] - 0s 100us/step - loss: 0.6716\n"
     ]
    }
   ],
   "source": [
    "# Importing the SGD optimizer\n",
    "from keras.optimizers import SGD\n",
    "\n",
    "# Creating list of learning rates: lr_to_test\n",
    "lr_to_test = [.000001, 0.01, 1]\n",
    "\n",
    "# Looping over learning rates\n",
    "for lr in lr_to_test:\n",
    "    print('\\n\\nTesting model with learning rate: %f\\n'%lr )\n",
    "    \n",
    "    # Building new model to test, unaffected by previous models\n",
    "    model = get_new_model()\n",
    "    \n",
    "    # Creating SGD optimizer with specified learning rate: my_optimizer\n",
    "    my_optimizer = SGD(lr=lr)\n",
    "    \n",
    "    # Compiling the model\n",
    "    model.compile(optimizer=my_optimizer, loss='categorical_crossentropy')\n",
    "    \n",
    "    # Fitting the model\n",
    "    model.fit(predictors, target, nb_epoch=10)\n"
   ]
  },
  {
   "cell_type": "code",
   "execution_count": 172,
   "metadata": {},
   "outputs": [
    {
     "name": "stderr",
     "output_type": "stream",
     "text": [
      "/opt/anaconda3/lib/python3.7/site-packages/ipykernel_launcher.py:15: UserWarning: The `nb_epoch` argument in `fit` has been renamed `epochs`.\n",
      "  from ipykernel import kernelapp as app\n"
     ]
    },
    {
     "name": "stdout",
     "output_type": "stream",
     "text": [
      "Train on 623 samples, validate on 268 samples\n",
      "Epoch 1/10\n",
      "623/623 [==============================] - 0s 324us/step - loss: 0.8340 - accuracy: 0.6292 - val_loss: 0.6182 - val_accuracy: 0.6866\n",
      "Epoch 2/10\n",
      "623/623 [==============================] - 0s 99us/step - loss: 0.6963 - accuracy: 0.6437 - val_loss: 0.5530 - val_accuracy: 0.7239\n",
      "Epoch 3/10\n",
      "623/623 [==============================] - 0s 85us/step - loss: 0.8501 - accuracy: 0.6597 - val_loss: 0.9382 - val_accuracy: 0.6418\n",
      "Epoch 4/10\n",
      "623/623 [==============================] - 0s 87us/step - loss: 0.7724 - accuracy: 0.6324 - val_loss: 0.5026 - val_accuracy: 0.7500\n",
      "Epoch 5/10\n",
      "623/623 [==============================] - 0s 97us/step - loss: 0.6217 - accuracy: 0.6581 - val_loss: 0.5698 - val_accuracy: 0.7090\n",
      "Epoch 6/10\n",
      "623/623 [==============================] - 0s 93us/step - loss: 0.6330 - accuracy: 0.6726 - val_loss: 0.5328 - val_accuracy: 0.7425\n",
      "Epoch 7/10\n",
      "623/623 [==============================] - 0s 142us/step - loss: 0.5747 - accuracy: 0.6918 - val_loss: 0.5286 - val_accuracy: 0.7313\n",
      "Epoch 8/10\n",
      "623/623 [==============================] - 0s 100us/step - loss: 0.6031 - accuracy: 0.7030 - val_loss: 0.5411 - val_accuracy: 0.7127\n",
      "Epoch 9/10\n",
      "623/623 [==============================] - 0s 78us/step - loss: 0.6011 - accuracy: 0.7095 - val_loss: 0.4979 - val_accuracy: 0.7313\n",
      "Epoch 10/10\n",
      "623/623 [==============================] - 0s 110us/step - loss: 0.5495 - accuracy: 0.7271 - val_loss: 0.4885 - val_accuracy: 0.7425\n"
     ]
    }
   ],
   "source": [
    "# Saving the number of columns in predictors: n_cols\n",
    "n_cols = predictors.shape[1]\n",
    "input_shape = (n_cols,)\n",
    "\n",
    "# Specifying the model\n",
    "model = Sequential()\n",
    "model.add(Dense(100, activation='relu', input_shape = input_shape))\n",
    "model.add(Dense(100, activation='relu'))\n",
    "model.add(Dense(2, activation='softmax'))\n",
    "\n",
    "# Compiling the model\n",
    "model.compile(optimizer='adam', loss='categorical_crossentropy', metrics=['accuracy'])\n",
    "\n",
    "# Fitting the model\n",
    "hist = model.fit(predictors, target, validation_split=0.3, nb_epoch=10)\n"
   ]
  },
  {
   "cell_type": "markdown",
   "metadata": {},
   "source": [
    "###### Early stopping: Optimizing the optimization\n",
    "    \n",
    "Now that we know how to monitor our model performance throughout optimization, we can use early stopping to stop optimization when it isn't helping any more. Since the optimization stops automatically when it isn't helping, we can also set a high value for epochs in your call to .fit(), as Dan showed in the video.\n"
   ]
  },
  {
   "cell_type": "code",
   "execution_count": 173,
   "metadata": {},
   "outputs": [
    {
     "name": "stdout",
     "output_type": "stream",
     "text": [
      "Train on 623 samples, validate on 268 samples\n",
      "Epoch 1/30\n",
      "623/623 [==============================] - 1s 996us/step - loss: 1.2608 - accuracy: 0.6164 - val_loss: 0.7719 - val_accuracy: 0.6493\n",
      "Epoch 2/30\n",
      "623/623 [==============================] - 0s 100us/step - loss: 0.6758 - accuracy: 0.6388 - val_loss: 0.5814 - val_accuracy: 0.7351\n",
      "Epoch 3/30\n",
      "623/623 [==============================] - 0s 83us/step - loss: 0.6411 - accuracy: 0.6661 - val_loss: 0.6281 - val_accuracy: 0.6828\n",
      "Epoch 4/30\n",
      "623/623 [==============================] - 0s 102us/step - loss: 0.6444 - accuracy: 0.6693 - val_loss: 0.7636 - val_accuracy: 0.6418\n"
     ]
    },
    {
     "data": {
      "text/plain": [
       "<keras.callbacks.callbacks.History at 0x1a40694f10>"
      ]
     },
     "execution_count": 173,
     "metadata": {},
     "output_type": "execute_result"
    }
   ],
   "source": [
    "# Importing EarlyStopping\n",
    "from keras.callbacks import EarlyStopping\n",
    "\n",
    "# Saving the number of columns in predictors: n_cols\n",
    "n_cols = predictors.shape[1]\n",
    "input_shape = (n_cols,)\n",
    "\n",
    "# Specifying the model\n",
    "model = Sequential()\n",
    "model.add(Dense(100, activation='relu', input_shape = input_shape))\n",
    "model.add(Dense(100, activation='relu'))\n",
    "model.add(Dense(2, activation='softmax'))\n",
    "\n",
    "# Compiling the model\n",
    "model.compile(optimizer='adam', loss='categorical_crossentropy', metrics=['accuracy'])\n",
    "\n",
    "# Defining early_stopping_monitor\n",
    "early_stopping_monitor = EarlyStopping(patience=2)\n",
    "\n",
    "# Fitting the model\n",
    "model.fit(predictors, target, epochs=30, validation_split=0.3, callbacks=[early_stopping_monitor])\n"
   ]
  },
  {
   "cell_type": "markdown",
   "metadata": {},
   "source": [
    "Because optimization will automatically stop when it is no longer helpful, it is okay to specify the maximum number of epochs as 30 rather than using the default of 10 that we've used so far. Here, it seems like the optimization stopped after 4 epochs.\n"
   ]
  },
  {
   "cell_type": "markdown",
   "metadata": {},
   "source": [
    "###### Experimenting with wider networks\n",
    "\n",
    "Now we know everything we need to begin experimenting with different models!\n",
    "\n",
    "A model called model_1 has been defined. We can see a summary of this model printed in the IPython Shell. This is a relatively small network, with only 10 units in each hidden layer.\n",
    "\n",
    "I'll create a new model called model_2 which is similar to model_1, except it has 100 units in each hidden layer.\n",
    "\n",
    "After I create model_2, both models will be fitted, and a graph showing both models loss score at each epoch will be shown. We added the argument verbose=False in the fitting commands to print out fewer updates, since we will look at these graphically instead of as text.\n",
    "\n",
    "Because we are fitting two models, it will take a moment to see the outputs after we hit run."
   ]
  },
  {
   "cell_type": "code",
   "execution_count": 176,
   "metadata": {},
   "outputs": [
    {
     "data": {
      "image/png": "[encoded data removed]",
      "text/plain": [
       "<Figure size 432x288 with 1 Axes>"
      ]
     },
     "metadata": {
      "needs_background": "light"
     },
     "output_type": "display_data"
    }
   ],
   "source": [
    "# Defining early_stopping_monitor\n",
    "early_stopping_monitor = EarlyStopping(patience=2)\n",
    "\n",
    "# Creating the new model: model_1\n",
    "model_1 = Sequential()\n",
    "\n",
    "# Adding the first and second layers\n",
    "model_1.add(Dense(10, activation='relu', input_shape=input_shape))\n",
    "model_1.add(Dense(10, activation='relu'))\n",
    "\n",
    "# Adding the output layer\n",
    "model_1.add(Dense(2, activation='softmax'))\n",
    "\n",
    "# Compiling model_1\n",
    "model_1.compile(optimizer='adam', loss='categorical_crossentropy', metrics=['accuracy'])\n",
    "\n",
    "# Creating the new model: model_2\n",
    "model_2 = Sequential()\n",
    "\n",
    "# Adding the first and second layers\n",
    "model_2.add(Dense(100, activation='relu', input_shape=input_shape))\n",
    "model_2.add(Dense(100, activation='relu'))\n",
    "\n",
    "# Adding the output layer\n",
    "model_2.add(Dense(2, activation='softmax'))\n",
    "\n",
    "# Compiling model_2\n",
    "model_2.compile(optimizer='adam', loss='categorical_crossentropy', metrics=['accuracy'])\n",
    "\n",
    "# Fitting model_1\n",
    "model_1_training = model_1.fit(predictors, target, epochs=15, validation_split=0.2, callbacks=[early_stopping_monitor], verbose=False)\n",
    "\n",
    "# Fitting model_2\n",
    "model_2_training = model_2.fit(predictors, target, epochs=15, validation_split=0.2, callbacks=[early_stopping_monitor], verbose=False)\n",
    "\n",
    "# Creating the plot\n",
    "plt.plot(model_1_training.history['val_loss'], 'r', model_2_training.history['val_loss'], 'b')\n",
    "plt.xlabel('Epochs')\n",
    "plt.ylabel('Validation score')\n",
    "plt.show()\n"
   ]
  },
  {
   "cell_type": "markdown",
   "metadata": {},
   "source": [
    "The blue model is the one we made, the red is the original model. Our model had a lower loss value, so it is the better model. \n"
   ]
  },
  {
   "cell_type": "markdown",
   "metadata": {},
   "source": [
    "###### Adding layers to a network\n",
    "\n",
    "We've seen how to experiment with wider networks. Here I'll try a deeper network (more hidden layers).\n",
    "\n",
    "Once again, we have a baseline model called model_1 as a starting point. It has 1 hidden layer, with 50 units. We will create a similar network with 3 hidden layers (still keeping 50 units in each layer).\n",
    "\n",
    "This will again take a moment to fit both models."
   ]
  },
  {
   "cell_type": "code",
   "execution_count": 180,
   "metadata": {},
   "outputs": [
    {
     "data": {
      "image/png": "[encoded data removed]",
      "text/plain": [
       "<Figure size 432x288 with 1 Axes>"
      ]
     },
     "metadata": {
      "needs_background": "light"
     },
     "output_type": "display_data"
    }
   ],
   "source": [
    "# The input shape to use in the first hidden layer\n",
    "input_shape = (n_cols,)\n",
    "\n",
    "# Creating the new model: model_2\n",
    "model_1 = Sequential()\n",
    "\n",
    "# Adding the first, second, and third hidden layers\n",
    "model_1.add(Dense(50, activation='relu', input_shape=input_shape))\n",
    "model_1.add(Dense(50, activation='relu'))\n",
    "\n",
    "# Adding the output layer\n",
    "model_1.add(Dense(2, activation='softmax'))\n",
    "\n",
    "# Compiling model_2\n",
    "model_1.compile(optimizer='adam', loss='categorical_crossentropy', metrics=['accuracy'])\n",
    "\n",
    "\n",
    "# Creating the new model: model_2\n",
    "model_2 = Sequential()\n",
    "\n",
    "# Adding the first, second, and third hidden layers\n",
    "model_2.add(Dense(50, activation='relu', input_shape=input_shape))\n",
    "model_2.add(Dense(50, activation='relu'))\n",
    "model_2.add(Dense(50, activation='relu'))\n",
    "\n",
    "# Adding the output layer\n",
    "model_2.add(Dense(2, activation='softmax'))\n",
    "\n",
    "# Compiling model_2\n",
    "model_2.compile(optimizer='adam', loss='categorical_crossentropy', metrics=['accuracy'])\n",
    "\n",
    "# Fitting model 1\n",
    "model_1_training = model_1.fit(predictors, target, epochs=20, validation_split=0.4, callbacks=[early_stopping_monitor], verbose=False)\n",
    "\n",
    "# Fitting model 2\n",
    "model_2_training = model_2.fit(predictors, target, epochs=20, validation_split=0.4, callbacks=[early_stopping_monitor], verbose=False)\n",
    "\n",
    "# Creating the plot\n",
    "plt.plot(model_1_training.history['val_loss'], 'r', model_2_training.history['val_loss'], 'b')\n",
    "plt.xlabel('Epochs')\n",
    "plt.ylabel('Validation score')\n",
    "plt.show()\n"
   ]
  },
  {
   "cell_type": "markdown",
   "metadata": {},
   "source": [
    "The blue model is the one we made and the red is the original model. The model with the lower loss value is the better model.\n"
   ]
  },
  {
   "cell_type": "markdown",
   "metadata": {},
   "source": [
    "###### Experimenting with model structures\n",
    "\n",
    "We've just run an experiment where we compared two networks that were identical except that the 2nd network had an extra hidden layer. We see that this 2nd network (the deeper network) had better performance. Given that, which of the following would be a good experiment to run next for even better performance?\n",
    "\n",
    "• Try a new network with fewer layers than anything you have tried yet.\n",
    "\n",
    "• Use more units in each hidden layer. - correct\n",
    "\n",
    "• Use fewer units in each hidden layer.\n"
   ]
  },
  {
   "cell_type": "markdown",
   "metadata": {},
   "source": [
    "Increasing the number of units in each hidden layer would be a good next step to try achieving even better performance.\n"
   ]
  },
  {
   "cell_type": "markdown",
   "metadata": {},
   "source": [
    "##### Thanks a lot for your attention. "
   ]
  },
  {
   "cell_type": "code",
   "execution_count": null,
   "metadata": {},
   "outputs": [],
   "source": []
  }
 ],
 "metadata": {
  "kernelspec": {
   "display_name": "Python 3",
   "language": "python",
   "name": "python3"
  },
  "language_info": {
   "codemirror_mode": {
    "name": "ipython",
    "version": 3
   },
   "file_extension": ".py",
   "mimetype": "text/x-python",
   "name": "python",
   "nbconvert_exporter": "python",
   "pygments_lexer": "ipython3",
   "version": "3.7.4"
  }
 },
 "nbformat": 4,
 "nbformat_minor": 2
}
